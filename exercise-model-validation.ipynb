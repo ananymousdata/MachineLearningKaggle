{
 "cells": [
  {
   "cell_type": "markdown",
   "id": "e1ddb532",
   "metadata": {
    "papermill": {
     "duration": 0.006502,
     "end_time": "2023-02-23T19:35:22.558505",
     "exception": false,
     "start_time": "2023-02-23T19:35:22.552003",
     "status": "completed"
    },
    "tags": []
   },
   "source": [
    "**This notebook is an exercise in the [Introduction to Machine Learning](https://www.kaggle.com/learn/intro-to-machine-learning) course.  You can reference the tutorial at [this link](https://www.kaggle.com/dansbecker/model-validation).**\n",
    "\n",
    "---\n"
   ]
  },
  {
   "cell_type": "markdown",
   "id": "a67a6eed",
   "metadata": {
    "papermill": {
     "duration": 0.00356,
     "end_time": "2023-02-23T19:35:22.565935",
     "exception": false,
     "start_time": "2023-02-23T19:35:22.562375",
     "status": "completed"
    },
    "tags": []
   },
   "source": [
    "## Recap\n",
    "You've built a model. In this exercise you will test how good your model is.\n",
    "\n",
    "Run the cell below to set up your coding environment where the previous exercise left off."
   ]
  },
  {
   "cell_type": "code",
   "execution_count": 1,
   "id": "2f4eb288",
   "metadata": {
    "execution": {
     "iopub.execute_input": "2023-02-23T19:35:22.574994Z",
     "iopub.status.busy": "2023-02-23T19:35:22.574550Z",
     "iopub.status.idle": "2023-02-23T19:35:23.586613Z",
     "shell.execute_reply": "2023-02-23T19:35:23.585948Z"
    },
    "papermill": {
     "duration": 1.019428,
     "end_time": "2023-02-23T19:35:23.589036",
     "exception": false,
     "start_time": "2023-02-23T19:35:22.569608",
     "status": "completed"
    },
    "tags": []
   },
   "outputs": [
    {
     "name": "stdout",
     "output_type": "stream",
     "text": [
      "First in-sample predictions: [208500. 181500. 223500. 140000. 250000.]\n",
      "Actual target values for those homes: [208500, 181500, 223500, 140000, 250000]\n",
      "Setup Complete\n"
     ]
    }
   ],
   "source": [
    "# Code you have previously used to load data\n",
    "import pandas as pd\n",
    "from sklearn.tree import DecisionTreeRegressor\n",
    "\n",
    "# Path of the file to read\n",
    "iowa_file_path = '../input/home-data-for-ml-course/train.csv'\n",
    "\n",
    "home_data = pd.read_csv(iowa_file_path)\n",
    "y = home_data.SalePrice\n",
    "feature_columns = ['LotArea', 'YearBuilt', '1stFlrSF', '2ndFlrSF', 'FullBath', 'BedroomAbvGr', 'TotRmsAbvGrd']\n",
    "X = home_data[feature_columns]\n",
    "\n",
    "# Specify Model\n",
    "iowa_model = DecisionTreeRegressor()\n",
    "# Fit Model\n",
    "iowa_model.fit(X, y)\n",
    "\n",
    "print(\"First in-sample predictions:\", iowa_model.predict(X.head()))\n",
    "print(\"Actual target values for those homes:\", y.head().tolist())\n",
    "\n",
    "# Set up code checking\n",
    "from learntools.core import binder\n",
    "binder.bind(globals())\n",
    "from learntools.machine_learning.ex4 import *\n",
    "print(\"Setup Complete\")"
   ]
  },
  {
   "cell_type": "markdown",
   "id": "4c64f4ab",
   "metadata": {
    "papermill": {
     "duration": 0.003511,
     "end_time": "2023-02-23T19:35:23.597427",
     "exception": false,
     "start_time": "2023-02-23T19:35:23.593916",
     "status": "completed"
    },
    "tags": []
   },
   "source": [
    "# Exercises\n",
    "\n",
    "## Step 1: Split Your Data\n",
    "Use the `train_test_split` function to split up your data.\n",
    "\n",
    "Give it the argument `random_state=1` so the `check` functions know what to expect when verifying your code.\n",
    "\n",
    "Recall, your features are loaded in the DataFrame **X** and your target is loaded in **y**.\n"
   ]
  },
  {
   "cell_type": "code",
   "execution_count": 2,
   "id": "635328ce",
   "metadata": {
    "execution": {
     "iopub.execute_input": "2023-02-23T19:35:23.607362Z",
     "iopub.status.busy": "2023-02-23T19:35:23.606792Z",
     "iopub.status.idle": "2023-02-23T19:35:23.619602Z",
     "shell.execute_reply": "2023-02-23T19:35:23.618778Z"
    },
    "papermill": {
     "duration": 0.020289,
     "end_time": "2023-02-23T19:35:23.621389",
     "exception": false,
     "start_time": "2023-02-23T19:35:23.601100",
     "status": "completed"
    },
    "tags": []
   },
   "outputs": [
    {
     "data": {
      "application/javascript": [
       "parent.postMessage({\"jupyterEvent\": \"custom.exercise_interaction\", \"data\": {\"outcomeType\": 1, \"valueTowardsCompletion\": 0.25, \"interactionType\": 1, \"questionType\": 2, \"questionId\": \"1_SplitData\", \"learnToolsVersion\": \"0.3.4\", \"failureMessage\": \"\", \"exceptionClass\": \"\", \"trace\": \"\"}}, \"*\")"
      ],
      "text/plain": [
       "<IPython.core.display.Javascript object>"
      ]
     },
     "metadata": {},
     "output_type": "display_data"
    },
    {
     "data": {
      "text/markdown": [
       "<span style=\"color:#33cc33\">Correct</span>"
      ],
      "text/plain": [
       "Correct"
      ]
     },
     "metadata": {},
     "output_type": "display_data"
    }
   ],
   "source": [
    "# Import the train_test_split function and uncomment\n",
    "from sklearn.model_selection import train_test_split\n",
    "\n",
    "# fill in and uncomment\n",
    "train_X, val_X, train_y, val_y = train_test_split(X,y, random_state = 1)\n",
    "\n",
    "# Check your answer\n",
    "step_1.check()"
   ]
  },
  {
   "cell_type": "code",
   "execution_count": 3,
   "id": "5b43d4f3",
   "metadata": {
    "execution": {
     "iopub.execute_input": "2023-02-23T19:35:23.630969Z",
     "iopub.status.busy": "2023-02-23T19:35:23.630602Z",
     "iopub.status.idle": "2023-02-23T19:35:23.634575Z",
     "shell.execute_reply": "2023-02-23T19:35:23.633634Z"
    },
    "papermill": {
     "duration": 0.011085,
     "end_time": "2023-02-23T19:35:23.636614",
     "exception": false,
     "start_time": "2023-02-23T19:35:23.625529",
     "status": "completed"
    },
    "tags": []
   },
   "outputs": [],
   "source": [
    "# The lines below will show you a hint or the solution.\n",
    "# step_1.hint() \n",
    "# step_1.solution()\n"
   ]
  },
  {
   "cell_type": "markdown",
   "id": "11d1942e",
   "metadata": {
    "papermill": {
     "duration": 0.00371,
     "end_time": "2023-02-23T19:35:23.644557",
     "exception": false,
     "start_time": "2023-02-23T19:35:23.640847",
     "status": "completed"
    },
    "tags": []
   },
   "source": [
    "## Step 2: Specify and Fit the Model\n",
    "\n",
    "Create a `DecisionTreeRegressor` model and fit it to the relevant data.\n",
    "Set `random_state` to 1 again when creating the model."
   ]
  },
  {
   "cell_type": "code",
   "execution_count": 4,
   "id": "b7ebea41",
   "metadata": {
    "execution": {
     "iopub.execute_input": "2023-02-23T19:35:23.653777Z",
     "iopub.status.busy": "2023-02-23T19:35:23.653088Z",
     "iopub.status.idle": "2023-02-23T19:35:23.674574Z",
     "shell.execute_reply": "2023-02-23T19:35:23.673594Z"
    },
    "papermill": {
     "duration": 0.027894,
     "end_time": "2023-02-23T19:35:23.676319",
     "exception": false,
     "start_time": "2023-02-23T19:35:23.648425",
     "status": "completed"
    },
    "tags": []
   },
   "outputs": [
    {
     "name": "stdout",
     "output_type": "stream",
     "text": [
      "[186500. 184000. 130000.  92000. 164500. 220000. 335000. 144152. 215000.\n",
      " 262000.]\n",
      "[186500. 184000. 130000.  92000. 164500. 220000. 335000. 144152. 215000.\n",
      " 262000.]\n"
     ]
    },
    {
     "data": {
      "application/javascript": [
       "parent.postMessage({\"jupyterEvent\": \"custom.exercise_interaction\", \"data\": {\"outcomeType\": 1, \"valueTowardsCompletion\": 0.25, \"interactionType\": 1, \"questionType\": 2, \"questionId\": \"2_FitModelWithTrain\", \"learnToolsVersion\": \"0.3.4\", \"failureMessage\": \"\", \"exceptionClass\": \"\", \"trace\": \"\"}}, \"*\")"
      ],
      "text/plain": [
       "<IPython.core.display.Javascript object>"
      ]
     },
     "metadata": {},
     "output_type": "display_data"
    },
    {
     "data": {
      "text/markdown": [
       "<span style=\"color:#33cc33\">Correct</span>"
      ],
      "text/plain": [
       "Correct"
      ]
     },
     "metadata": {},
     "output_type": "display_data"
    }
   ],
   "source": [
    "# You imported DecisionTreeRegressor in your last exercise\n",
    "# and that code has been copied to the setup code above. So, no need to\n",
    "# import it again\n",
    "\n",
    "# Specify the model\n",
    "iowa_model = DecisionTreeRegressor(random_state=1)\n",
    "\n",
    "# Fit iowa_model with the training data.\n",
    "iowa_model.fit(train_X, train_y)\n",
    "\n",
    "# Check your answer\n",
    "step_2.check()"
   ]
  },
  {
   "cell_type": "code",
   "execution_count": 5,
   "id": "f3b09f39",
   "metadata": {
    "execution": {
     "iopub.execute_input": "2023-02-23T19:35:23.686476Z",
     "iopub.status.busy": "2023-02-23T19:35:23.686238Z",
     "iopub.status.idle": "2023-02-23T19:35:23.689538Z",
     "shell.execute_reply": "2023-02-23T19:35:23.688684Z"
    },
    "papermill": {
     "duration": 0.010105,
     "end_time": "2023-02-23T19:35:23.691184",
     "exception": false,
     "start_time": "2023-02-23T19:35:23.681079",
     "status": "completed"
    },
    "tags": []
   },
   "outputs": [],
   "source": [
    "# step_2.hint()\n",
    "# step_2.solution()"
   ]
  },
  {
   "cell_type": "markdown",
   "id": "baa0f847",
   "metadata": {
    "papermill": {
     "duration": 0.004088,
     "end_time": "2023-02-23T19:35:23.699825",
     "exception": false,
     "start_time": "2023-02-23T19:35:23.695737",
     "status": "completed"
    },
    "tags": []
   },
   "source": [
    "## Step 3: Make Predictions with Validation data\n"
   ]
  },
  {
   "cell_type": "code",
   "execution_count": 6,
   "id": "fe8a01f6",
   "metadata": {
    "execution": {
     "iopub.execute_input": "2023-02-23T19:35:23.709630Z",
     "iopub.status.busy": "2023-02-23T19:35:23.709374Z",
     "iopub.status.idle": "2023-02-23T19:35:23.718531Z",
     "shell.execute_reply": "2023-02-23T19:35:23.717754Z"
    },
    "papermill": {
     "duration": 0.016425,
     "end_time": "2023-02-23T19:35:23.720585",
     "exception": false,
     "start_time": "2023-02-23T19:35:23.704160",
     "status": "completed"
    },
    "tags": []
   },
   "outputs": [
    {
     "data": {
      "application/javascript": [
       "parent.postMessage({\"jupyterEvent\": \"custom.exercise_interaction\", \"data\": {\"outcomeType\": 1, \"valueTowardsCompletion\": 0.25, \"interactionType\": 1, \"questionType\": 2, \"questionId\": \"3_ValPreds\", \"learnToolsVersion\": \"0.3.4\", \"failureMessage\": \"\", \"exceptionClass\": \"\", \"trace\": \"\"}}, \"*\")"
      ],
      "text/plain": [
       "<IPython.core.display.Javascript object>"
      ]
     },
     "metadata": {},
     "output_type": "display_data"
    },
    {
     "data": {
      "text/markdown": [
       "<span style=\"color:#33cc33\">Correct</span>"
      ],
      "text/plain": [
       "Correct"
      ]
     },
     "metadata": {},
     "output_type": "display_data"
    }
   ],
   "source": [
    "# Predict with all validation observations\n",
    "val_predictions = iowa_model.predict(val_X)\n",
    "\n",
    "# Check your answer\n",
    "step_3.check()"
   ]
  },
  {
   "cell_type": "code",
   "execution_count": 7,
   "id": "006c191c",
   "metadata": {
    "execution": {
     "iopub.execute_input": "2023-02-23T19:35:23.731897Z",
     "iopub.status.busy": "2023-02-23T19:35:23.731516Z",
     "iopub.status.idle": "2023-02-23T19:35:23.735418Z",
     "shell.execute_reply": "2023-02-23T19:35:23.734519Z"
    },
    "papermill": {
     "duration": 0.01161,
     "end_time": "2023-02-23T19:35:23.737078",
     "exception": false,
     "start_time": "2023-02-23T19:35:23.725468",
     "status": "completed"
    },
    "tags": []
   },
   "outputs": [],
   "source": [
    "# step_3.hint()\n",
    "# step_3.solution()"
   ]
  },
  {
   "cell_type": "markdown",
   "id": "599c2e84",
   "metadata": {
    "papermill": {
     "duration": 0.004241,
     "end_time": "2023-02-23T19:35:23.746161",
     "exception": false,
     "start_time": "2023-02-23T19:35:23.741920",
     "status": "completed"
    },
    "tags": []
   },
   "source": [
    "Inspect your predictions and actual values from validation data."
   ]
  },
  {
   "cell_type": "code",
   "execution_count": 8,
   "id": "d4c314e6",
   "metadata": {
    "execution": {
     "iopub.execute_input": "2023-02-23T19:35:23.756525Z",
     "iopub.status.busy": "2023-02-23T19:35:23.756271Z",
     "iopub.status.idle": "2023-02-23T19:35:23.762564Z",
     "shell.execute_reply": "2023-02-23T19:35:23.761832Z"
    },
    "papermill": {
     "duration": 0.013576,
     "end_time": "2023-02-23T19:35:23.764329",
     "exception": false,
     "start_time": "2023-02-23T19:35:23.750753",
     "status": "completed"
    },
    "tags": []
   },
   "outputs": [
    {
     "name": "stdout",
     "output_type": "stream",
     "text": [
      "Predicted Prices of top few houses:[186500. 184000. 130000.  92000. 164500.]\n",
      "Actual prices of top few houses:[231500, 179500, 122000, 84500, 142000]\n"
     ]
    }
   ],
   "source": [
    "# print the top few validation predictions\n",
    "print(\"Predicted Prices of top few houses\", end=':')\n",
    "print(iowa_model.predict(val_X.head()))\n",
    "\n",
    "# print the top few actual prices from validation data\n",
    "print(\"Actual prices of top few houses\", end= ':')\n",
    "print(val_y.head().tolist())"
   ]
  },
  {
   "cell_type": "markdown",
   "id": "150ea8c6",
   "metadata": {
    "papermill": {
     "duration": 0.004273,
     "end_time": "2023-02-23T19:35:23.773066",
     "exception": false,
     "start_time": "2023-02-23T19:35:23.768793",
     "status": "completed"
    },
    "tags": []
   },
   "source": [
    "What do you notice that is different from what you saw with in-sample predictions (which are printed after the top code cell in this page).\n",
    "\n",
    "Do you remember why validation predictions differ from in-sample (or training) predictions? This is an important idea from the last lesson.\n",
    "\n",
    "## Step 4: Calculate the Mean Absolute Error in Validation Data\n"
   ]
  },
  {
   "cell_type": "code",
   "execution_count": 9,
   "id": "46ee1c14",
   "metadata": {
    "execution": {
     "iopub.execute_input": "2023-02-23T19:35:23.782933Z",
     "iopub.status.busy": "2023-02-23T19:35:23.782668Z",
     "iopub.status.idle": "2023-02-23T19:35:23.791222Z",
     "shell.execute_reply": "2023-02-23T19:35:23.790294Z"
    },
    "papermill": {
     "duration": 0.016839,
     "end_time": "2023-02-23T19:35:23.794328",
     "exception": false,
     "start_time": "2023-02-23T19:35:23.777489",
     "status": "completed"
    },
    "tags": []
   },
   "outputs": [
    {
     "name": "stdout",
     "output_type": "stream",
     "text": [
      "29652.931506849316\n"
     ]
    },
    {
     "data": {
      "application/javascript": [
       "parent.postMessage({\"jupyterEvent\": \"custom.exercise_interaction\", \"data\": {\"outcomeType\": 1, \"valueTowardsCompletion\": 0.25, \"interactionType\": 1, \"questionType\": 1, \"questionId\": \"4_MAE\", \"learnToolsVersion\": \"0.3.4\", \"failureMessage\": \"\", \"exceptionClass\": \"\", \"trace\": \"\"}}, \"*\")"
      ],
      "text/plain": [
       "<IPython.core.display.Javascript object>"
      ]
     },
     "metadata": {},
     "output_type": "display_data"
    },
    {
     "data": {
      "text/markdown": [
       "<span style=\"color:#33cc33\">Correct</span>"
      ],
      "text/plain": [
       "Correct"
      ]
     },
     "metadata": {},
     "output_type": "display_data"
    }
   ],
   "source": [
    "from sklearn.metrics import mean_absolute_error\n",
    "val_mae = mean_absolute_error(val_y, val_predictions)\n",
    "\n",
    "# uncomment following line to see the validation_mae\n",
    "print(val_mae)\n",
    "\n",
    "# Check your answer\n",
    "step_4.check()"
   ]
  },
  {
   "cell_type": "code",
   "execution_count": 10,
   "id": "0d8ae168",
   "metadata": {
    "execution": {
     "iopub.execute_input": "2023-02-23T19:35:23.807597Z",
     "iopub.status.busy": "2023-02-23T19:35:23.805997Z",
     "iopub.status.idle": "2023-02-23T19:35:23.811331Z",
     "shell.execute_reply": "2023-02-23T19:35:23.810663Z"
    },
    "papermill": {
     "duration": 0.013548,
     "end_time": "2023-02-23T19:35:23.813360",
     "exception": false,
     "start_time": "2023-02-23T19:35:23.799812",
     "status": "completed"
    },
    "tags": []
   },
   "outputs": [],
   "source": [
    "# step_4.hint()\n",
    "# step_4.solution()"
   ]
  },
  {
   "cell_type": "markdown",
   "id": "f86f0674",
   "metadata": {
    "papermill": {
     "duration": 0.004711,
     "end_time": "2023-02-23T19:35:23.823151",
     "exception": false,
     "start_time": "2023-02-23T19:35:23.818440",
     "status": "completed"
    },
    "tags": []
   },
   "source": [
    "Is that MAE good?  There isn't a general rule for what values are good that applies across applications. But you'll see how to use (and improve) this number in the next step.\n",
    "\n",
    "# Keep Going\n",
    "\n",
    "You are ready for **[Underfitting and Overfitting](https://www.kaggle.com/dansbecker/underfitting-and-overfitting).**\n"
   ]
  },
  {
   "cell_type": "markdown",
   "id": "e1fd27f9",
   "metadata": {
    "papermill": {
     "duration": 0.004649,
     "end_time": "2023-02-23T19:35:23.832768",
     "exception": false,
     "start_time": "2023-02-23T19:35:23.828119",
     "status": "completed"
    },
    "tags": []
   },
   "source": [
    "---\n",
    "\n",
    "\n",
    "\n",
    "\n",
    "*Have questions or comments? Visit the [course discussion forum](https://www.kaggle.com/learn/intro-to-machine-learning/discussion) to chat with other learners.*"
   ]
  }
 ],
 "metadata": {
  "kernelspec": {
   "display_name": "Python 3",
   "language": "python",
   "name": "python3"
  },
  "language_info": {
   "codemirror_mode": {
    "name": "ipython",
    "version": 3
   },
   "file_extension": ".py",
   "mimetype": "text/x-python",
   "name": "python",
   "nbconvert_exporter": "python",
   "pygments_lexer": "ipython3",
   "version": "3.7.12"
  },
  "papermill": {
   "default_parameters": {},
   "duration": 8.679452,
   "end_time": "2023-02-23T19:35:24.457376",
   "environment_variables": {},
   "exception": null,
   "input_path": "__notebook__.ipynb",
   "output_path": "__notebook__.ipynb",
   "parameters": {},
   "start_time": "2023-02-23T19:35:15.777924",
   "version": "2.3.4"
  }
 },
 "nbformat": 4,
 "nbformat_minor": 5
}
