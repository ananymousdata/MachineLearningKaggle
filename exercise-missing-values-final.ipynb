{
 "cells": [
  {
   "cell_type": "markdown",
   "id": "9e360711",
   "metadata": {
    "papermill": {
     "duration": 0.010801,
     "end_time": "2023-03-01T11:21:28.946016",
     "exception": false,
     "start_time": "2023-03-01T11:21:28.935215",
     "status": "completed"
    },
    "tags": []
   },
   "source": [
    "**This notebook is an exercise in the [Intermediate Machine Learning](https://www.kaggle.com/learn/intermediate-machine-learning) course.  You can reference the tutorial at [this link](https://www.kaggle.com/alexisbcook/missing-values).**\n",
    "\n",
    "---\n"
   ]
  },
  {
   "cell_type": "markdown",
   "id": "20d1655c",
   "metadata": {
    "papermill": {
     "duration": 0.008464,
     "end_time": "2023-03-01T11:21:28.963463",
     "exception": false,
     "start_time": "2023-03-01T11:21:28.954999",
     "status": "completed"
    },
    "tags": []
   },
   "source": [
    "Now it's your turn to test your new knowledge of **missing values** handling. You'll probably find it makes a big difference.\n",
    "\n",
    "# Setup\n",
    "\n",
    "The questions will give you feedback on your work. Run the following cell to set up the feedback system."
   ]
  },
  {
   "cell_type": "code",
   "execution_count": 1,
   "id": "5e1c985c",
   "metadata": {
    "execution": {
     "iopub.execute_input": "2023-03-01T11:21:28.983265Z",
     "iopub.status.busy": "2023-03-01T11:21:28.982682Z",
     "iopub.status.idle": "2023-03-01T11:21:29.033342Z",
     "shell.execute_reply": "2023-03-01T11:21:29.031950Z"
    },
    "papermill": {
     "duration": 0.064409,
     "end_time": "2023-03-01T11:21:29.036704",
     "exception": false,
     "start_time": "2023-03-01T11:21:28.972295",
     "status": "completed"
    },
    "tags": []
   },
   "outputs": [
    {
     "name": "stdout",
     "output_type": "stream",
     "text": [
      "Setup Complete\n"
     ]
    }
   ],
   "source": [
    "# Set up code checking\n",
    "import os\n",
    "if not os.path.exists(\"../input/train.csv\"):\n",
    "    os.symlink(\"../input/home-data-for-ml-course/train.csv\", \"../input/train.csv\")  \n",
    "    os.symlink(\"../input/home-data-for-ml-course/test.csv\", \"../input/test.csv\") \n",
    "from learntools.core import binder\n",
    "binder.bind(globals())\n",
    "from learntools.ml_intermediate.ex2 import *\n",
    "print(\"Setup Complete\")"
   ]
  },
  {
   "cell_type": "markdown",
   "id": "0651b166",
   "metadata": {
    "papermill": {
     "duration": 0.008582,
     "end_time": "2023-03-01T11:21:29.054457",
     "exception": false,
     "start_time": "2023-03-01T11:21:29.045875",
     "status": "completed"
    },
    "tags": []
   },
   "source": [
    "In this exercise, you will work with data from the [Housing Prices Competition for Kaggle Learn Users](https://www.kaggle.com/c/home-data-for-ml-course). \n",
    "\n",
    "![Ames Housing dataset image](https://i.imgur.com/lTJVG4e.png)\n",
    "\n",
    "Run the next code cell without changes to load the training and validation sets in `X_train`, `X_valid`, `y_train`, and `y_valid`.  The test set is loaded in `X_test`."
   ]
  },
  {
   "cell_type": "code",
   "execution_count": 2,
   "id": "31073bc5",
   "metadata": {
    "execution": {
     "iopub.execute_input": "2023-03-01T11:21:29.074446Z",
     "iopub.status.busy": "2023-03-01T11:21:29.073678Z",
     "iopub.status.idle": "2023-03-01T11:21:30.108235Z",
     "shell.execute_reply": "2023-03-01T11:21:30.106808Z"
    },
    "papermill": {
     "duration": 1.048053,
     "end_time": "2023-03-01T11:21:30.111463",
     "exception": false,
     "start_time": "2023-03-01T11:21:29.063410",
     "status": "completed"
    },
    "tags": []
   },
   "outputs": [],
   "source": [
    "import pandas as pd\n",
    "from sklearn.model_selection import train_test_split\n",
    "\n",
    "# Read the data\n",
    "X_full = pd.read_csv('../input/train.csv', index_col='Id')\n",
    "X_test_full = pd.read_csv('../input/test.csv', index_col='Id')\n",
    "\n",
    "# Remove rows with missing target, separate target from predictors\n",
    "X_full.dropna(axis=0, subset=['SalePrice'], inplace=True)\n",
    "y = X_full.SalePrice\n",
    "X_full.drop(['SalePrice'], axis=1, inplace=True)\n",
    "\n",
    "# To keep things simple, we'll use only numerical predictors\n",
    "X = X_full.select_dtypes(exclude=['object'])\n",
    "X_test = X_test_full.select_dtypes(exclude=['object'])\n",
    "\n",
    "# Break off validation set from training data\n",
    "X_train, X_valid, y_train, y_valid = train_test_split(X, y, train_size=0.8, test_size=0.2,\n",
    "                                                      random_state=0)"
   ]
  },
  {
   "cell_type": "markdown",
   "id": "79d50f0e",
   "metadata": {
    "papermill": {
     "duration": 0.008501,
     "end_time": "2023-03-01T11:21:30.129055",
     "exception": false,
     "start_time": "2023-03-01T11:21:30.120554",
     "status": "completed"
    },
    "tags": []
   },
   "source": [
    "Use the next code cell to print the first five rows of the data."
   ]
  },
  {
   "cell_type": "code",
   "execution_count": 3,
   "id": "05909e4c",
   "metadata": {
    "execution": {
     "iopub.execute_input": "2023-03-01T11:21:30.148554Z",
     "iopub.status.busy": "2023-03-01T11:21:30.148107Z",
     "iopub.status.idle": "2023-03-01T11:21:30.188283Z",
     "shell.execute_reply": "2023-03-01T11:21:30.186745Z"
    },
    "papermill": {
     "duration": 0.053584,
     "end_time": "2023-03-01T11:21:30.191466",
     "exception": false,
     "start_time": "2023-03-01T11:21:30.137882",
     "status": "completed"
    },
    "tags": []
   },
   "outputs": [
    {
     "data": {
      "text/html": [
       "<div>\n",
       "<style scoped>\n",
       "    .dataframe tbody tr th:only-of-type {\n",
       "        vertical-align: middle;\n",
       "    }\n",
       "\n",
       "    .dataframe tbody tr th {\n",
       "        vertical-align: top;\n",
       "    }\n",
       "\n",
       "    .dataframe thead th {\n",
       "        text-align: right;\n",
       "    }\n",
       "</style>\n",
       "<table border=\"1\" class=\"dataframe\">\n",
       "  <thead>\n",
       "    <tr style=\"text-align: right;\">\n",
       "      <th></th>\n",
       "      <th>MSSubClass</th>\n",
       "      <th>LotFrontage</th>\n",
       "      <th>LotArea</th>\n",
       "      <th>OverallQual</th>\n",
       "      <th>OverallCond</th>\n",
       "      <th>YearBuilt</th>\n",
       "      <th>YearRemodAdd</th>\n",
       "      <th>MasVnrArea</th>\n",
       "      <th>BsmtFinSF1</th>\n",
       "      <th>BsmtFinSF2</th>\n",
       "      <th>...</th>\n",
       "      <th>GarageArea</th>\n",
       "      <th>WoodDeckSF</th>\n",
       "      <th>OpenPorchSF</th>\n",
       "      <th>EnclosedPorch</th>\n",
       "      <th>3SsnPorch</th>\n",
       "      <th>ScreenPorch</th>\n",
       "      <th>PoolArea</th>\n",
       "      <th>MiscVal</th>\n",
       "      <th>MoSold</th>\n",
       "      <th>YrSold</th>\n",
       "    </tr>\n",
       "    <tr>\n",
       "      <th>Id</th>\n",
       "      <th></th>\n",
       "      <th></th>\n",
       "      <th></th>\n",
       "      <th></th>\n",
       "      <th></th>\n",
       "      <th></th>\n",
       "      <th></th>\n",
       "      <th></th>\n",
       "      <th></th>\n",
       "      <th></th>\n",
       "      <th></th>\n",
       "      <th></th>\n",
       "      <th></th>\n",
       "      <th></th>\n",
       "      <th></th>\n",
       "      <th></th>\n",
       "      <th></th>\n",
       "      <th></th>\n",
       "      <th></th>\n",
       "      <th></th>\n",
       "      <th></th>\n",
       "    </tr>\n",
       "  </thead>\n",
       "  <tbody>\n",
       "    <tr>\n",
       "      <th>619</th>\n",
       "      <td>20</td>\n",
       "      <td>90.0</td>\n",
       "      <td>11694</td>\n",
       "      <td>9</td>\n",
       "      <td>5</td>\n",
       "      <td>2007</td>\n",
       "      <td>2007</td>\n",
       "      <td>452.0</td>\n",
       "      <td>48</td>\n",
       "      <td>0</td>\n",
       "      <td>...</td>\n",
       "      <td>774</td>\n",
       "      <td>0</td>\n",
       "      <td>108</td>\n",
       "      <td>0</td>\n",
       "      <td>0</td>\n",
       "      <td>260</td>\n",
       "      <td>0</td>\n",
       "      <td>0</td>\n",
       "      <td>7</td>\n",
       "      <td>2007</td>\n",
       "    </tr>\n",
       "    <tr>\n",
       "      <th>871</th>\n",
       "      <td>20</td>\n",
       "      <td>60.0</td>\n",
       "      <td>6600</td>\n",
       "      <td>5</td>\n",
       "      <td>5</td>\n",
       "      <td>1962</td>\n",
       "      <td>1962</td>\n",
       "      <td>0.0</td>\n",
       "      <td>0</td>\n",
       "      <td>0</td>\n",
       "      <td>...</td>\n",
       "      <td>308</td>\n",
       "      <td>0</td>\n",
       "      <td>0</td>\n",
       "      <td>0</td>\n",
       "      <td>0</td>\n",
       "      <td>0</td>\n",
       "      <td>0</td>\n",
       "      <td>0</td>\n",
       "      <td>8</td>\n",
       "      <td>2009</td>\n",
       "    </tr>\n",
       "    <tr>\n",
       "      <th>93</th>\n",
       "      <td>30</td>\n",
       "      <td>80.0</td>\n",
       "      <td>13360</td>\n",
       "      <td>5</td>\n",
       "      <td>7</td>\n",
       "      <td>1921</td>\n",
       "      <td>2006</td>\n",
       "      <td>0.0</td>\n",
       "      <td>713</td>\n",
       "      <td>0</td>\n",
       "      <td>...</td>\n",
       "      <td>432</td>\n",
       "      <td>0</td>\n",
       "      <td>0</td>\n",
       "      <td>44</td>\n",
       "      <td>0</td>\n",
       "      <td>0</td>\n",
       "      <td>0</td>\n",
       "      <td>0</td>\n",
       "      <td>8</td>\n",
       "      <td>2009</td>\n",
       "    </tr>\n",
       "    <tr>\n",
       "      <th>818</th>\n",
       "      <td>20</td>\n",
       "      <td>NaN</td>\n",
       "      <td>13265</td>\n",
       "      <td>8</td>\n",
       "      <td>5</td>\n",
       "      <td>2002</td>\n",
       "      <td>2002</td>\n",
       "      <td>148.0</td>\n",
       "      <td>1218</td>\n",
       "      <td>0</td>\n",
       "      <td>...</td>\n",
       "      <td>857</td>\n",
       "      <td>150</td>\n",
       "      <td>59</td>\n",
       "      <td>0</td>\n",
       "      <td>0</td>\n",
       "      <td>0</td>\n",
       "      <td>0</td>\n",
       "      <td>0</td>\n",
       "      <td>7</td>\n",
       "      <td>2008</td>\n",
       "    </tr>\n",
       "    <tr>\n",
       "      <th>303</th>\n",
       "      <td>20</td>\n",
       "      <td>118.0</td>\n",
       "      <td>13704</td>\n",
       "      <td>7</td>\n",
       "      <td>5</td>\n",
       "      <td>2001</td>\n",
       "      <td>2002</td>\n",
       "      <td>150.0</td>\n",
       "      <td>0</td>\n",
       "      <td>0</td>\n",
       "      <td>...</td>\n",
       "      <td>843</td>\n",
       "      <td>468</td>\n",
       "      <td>81</td>\n",
       "      <td>0</td>\n",
       "      <td>0</td>\n",
       "      <td>0</td>\n",
       "      <td>0</td>\n",
       "      <td>0</td>\n",
       "      <td>1</td>\n",
       "      <td>2006</td>\n",
       "    </tr>\n",
       "  </tbody>\n",
       "</table>\n",
       "<p>5 rows × 36 columns</p>\n",
       "</div>"
      ],
      "text/plain": [
       "     MSSubClass  LotFrontage  LotArea  OverallQual  OverallCond  YearBuilt  \\\n",
       "Id                                                                           \n",
       "619          20         90.0    11694            9            5       2007   \n",
       "871          20         60.0     6600            5            5       1962   \n",
       "93           30         80.0    13360            5            7       1921   \n",
       "818          20          NaN    13265            8            5       2002   \n",
       "303          20        118.0    13704            7            5       2001   \n",
       "\n",
       "     YearRemodAdd  MasVnrArea  BsmtFinSF1  BsmtFinSF2  ...  GarageArea  \\\n",
       "Id                                                     ...               \n",
       "619          2007       452.0          48           0  ...         774   \n",
       "871          1962         0.0           0           0  ...         308   \n",
       "93           2006         0.0         713           0  ...         432   \n",
       "818          2002       148.0        1218           0  ...         857   \n",
       "303          2002       150.0           0           0  ...         843   \n",
       "\n",
       "     WoodDeckSF  OpenPorchSF  EnclosedPorch  3SsnPorch  ScreenPorch  PoolArea  \\\n",
       "Id                                                                              \n",
       "619           0          108              0          0          260         0   \n",
       "871           0            0              0          0            0         0   \n",
       "93            0            0             44          0            0         0   \n",
       "818         150           59              0          0            0         0   \n",
       "303         468           81              0          0            0         0   \n",
       "\n",
       "     MiscVal  MoSold  YrSold  \n",
       "Id                            \n",
       "619        0       7    2007  \n",
       "871        0       8    2009  \n",
       "93         0       8    2009  \n",
       "818        0       7    2008  \n",
       "303        0       1    2006  \n",
       "\n",
       "[5 rows x 36 columns]"
      ]
     },
     "execution_count": 3,
     "metadata": {},
     "output_type": "execute_result"
    }
   ],
   "source": [
    "X_train.head()"
   ]
  },
  {
   "cell_type": "markdown",
   "id": "6270942e",
   "metadata": {
    "papermill": {
     "duration": 0.008836,
     "end_time": "2023-03-01T11:21:30.210575",
     "exception": false,
     "start_time": "2023-03-01T11:21:30.201739",
     "status": "completed"
    },
    "tags": []
   },
   "source": [
    "You can already see a few missing values in the first several rows.  In the next step, you'll obtain a more comprehensive understanding of the missing values in the dataset.\n",
    "\n",
    "# Step 1: Preliminary investigation\n",
    "\n",
    "Run the code cell below without changes."
   ]
  },
  {
   "cell_type": "code",
   "execution_count": 4,
   "id": "39cbe1c9",
   "metadata": {
    "execution": {
     "iopub.execute_input": "2023-03-01T11:21:30.231201Z",
     "iopub.status.busy": "2023-03-01T11:21:30.230347Z",
     "iopub.status.idle": "2023-03-01T11:21:30.239888Z",
     "shell.execute_reply": "2023-03-01T11:21:30.238678Z"
    },
    "papermill": {
     "duration": 0.023463,
     "end_time": "2023-03-01T11:21:30.243131",
     "exception": false,
     "start_time": "2023-03-01T11:21:30.219668",
     "status": "completed"
    },
    "tags": []
   },
   "outputs": [
    {
     "name": "stdout",
     "output_type": "stream",
     "text": [
      "(1168, 36)\n",
      "LotFrontage    212\n",
      "MasVnrArea       6\n",
      "GarageYrBlt     58\n",
      "dtype: int64\n"
     ]
    }
   ],
   "source": [
    "# Shape of training data (num_rows, num_columns)\n",
    "print(X_train.shape)\n",
    "\n",
    "# Number of missing values in each column of training data\n",
    "missing_val_count_by_column = (X_train.isnull().sum())\n",
    "print(missing_val_count_by_column[missing_val_count_by_column > 0])"
   ]
  },
  {
   "cell_type": "markdown",
   "id": "42b3d4f6",
   "metadata": {
    "papermill": {
     "duration": 0.009453,
     "end_time": "2023-03-01T11:21:30.262448",
     "exception": false,
     "start_time": "2023-03-01T11:21:30.252995",
     "status": "completed"
    },
    "tags": []
   },
   "source": [
    "### Part A\n",
    "\n",
    "Use the above output to answer the questions below."
   ]
  },
  {
   "cell_type": "code",
   "execution_count": 5,
   "id": "0749aec4",
   "metadata": {
    "execution": {
     "iopub.execute_input": "2023-03-01T11:21:30.283130Z",
     "iopub.status.busy": "2023-03-01T11:21:30.282592Z",
     "iopub.status.idle": "2023-03-01T11:21:30.293978Z",
     "shell.execute_reply": "2023-03-01T11:21:30.292755Z"
    },
    "papermill": {
     "duration": 0.024782,
     "end_time": "2023-03-01T11:21:30.296467",
     "exception": false,
     "start_time": "2023-03-01T11:21:30.271685",
     "status": "completed"
    },
    "tags": []
   },
   "outputs": [
    {
     "data": {
      "application/javascript": [
       "parent.postMessage({\"jupyterEvent\": \"custom.exercise_interaction\", \"data\": {\"outcomeType\": 1, \"valueTowardsCompletion\": 1.0, \"interactionType\": 1, \"questionType\": 1, \"questionId\": \"1.1_InvestigateEquality\", \"learnToolsVersion\": \"0.3.4\", \"failureMessage\": \"\", \"exceptionClass\": \"\", \"trace\": \"\"}}, \"*\")"
      ],
      "text/plain": [
       "<IPython.core.display.Javascript object>"
      ]
     },
     "metadata": {},
     "output_type": "display_data"
    },
    {
     "data": {
      "text/markdown": [
       "<span style=\"color:#33cc33\">Correct</span>"
      ],
      "text/plain": [
       "Correct"
      ]
     },
     "metadata": {},
     "output_type": "display_data"
    }
   ],
   "source": [
    "# Fill in the line below: How many rows are in the training data?\n",
    "num_rows = 1168\n",
    "\n",
    "# Fill in the line below: How many columns in the training data\n",
    "# have missing values?\n",
    "num_cols_with_missing = 3\n",
    "\n",
    "# Fill in the line below: How many missing entries are contained in \n",
    "# all of the training data?\n",
    "tot_missing = 276\n",
    "\n",
    "# Check your answers\n",
    "step_1.a.check()"
   ]
  },
  {
   "cell_type": "code",
   "execution_count": 6,
   "id": "a4d38b2c",
   "metadata": {
    "execution": {
     "iopub.execute_input": "2023-03-01T11:21:30.318272Z",
     "iopub.status.busy": "2023-03-01T11:21:30.317833Z",
     "iopub.status.idle": "2023-03-01T11:21:30.322858Z",
     "shell.execute_reply": "2023-03-01T11:21:30.321714Z"
    },
    "papermill": {
     "duration": 0.018753,
     "end_time": "2023-03-01T11:21:30.325249",
     "exception": false,
     "start_time": "2023-03-01T11:21:30.306496",
     "status": "completed"
    },
    "tags": []
   },
   "outputs": [],
   "source": [
    "# Lines below will give you a hint or solution code\n",
    "#step_1.a.hint()\n",
    "# step_1.a.solution()"
   ]
  },
  {
   "cell_type": "markdown",
   "id": "c67e87c3",
   "metadata": {
    "papermill": {
     "duration": 0.009056,
     "end_time": "2023-03-01T11:21:30.343772",
     "exception": false,
     "start_time": "2023-03-01T11:21:30.334716",
     "status": "completed"
    },
    "tags": []
   },
   "source": [
    "### Part B\n",
    "Considering your answers above, what do you think is likely the best approach to dealing with the missing values?"
   ]
  },
  {
   "cell_type": "code",
   "execution_count": 7,
   "id": "5353fdfa",
   "metadata": {
    "execution": {
     "iopub.execute_input": "2023-03-01T11:21:30.365198Z",
     "iopub.status.busy": "2023-03-01T11:21:30.364169Z",
     "iopub.status.idle": "2023-03-01T11:21:30.374141Z",
     "shell.execute_reply": "2023-03-01T11:21:30.372822Z"
    },
    "papermill": {
     "duration": 0.023418,
     "end_time": "2023-03-01T11:21:30.376693",
     "exception": false,
     "start_time": "2023-03-01T11:21:30.353275",
     "status": "completed"
    },
    "tags": []
   },
   "outputs": [
    {
     "data": {
      "application/javascript": [
       "parent.postMessage({\"jupyterEvent\": \"custom.exercise_interaction\", \"data\": {\"outcomeType\": 1, \"valueTowardsCompletion\": 1.0, \"interactionType\": 1, \"questionType\": 4, \"questionId\": \"1.2_InvestigateThought\", \"learnToolsVersion\": \"0.3.4\", \"failureMessage\": \"\", \"exceptionClass\": \"\", \"trace\": \"\"}}, \"*\")"
      ],
      "text/plain": [
       "<IPython.core.display.Javascript object>"
      ]
     },
     "metadata": {},
     "output_type": "display_data"
    },
    {
     "data": {
      "text/markdown": [
       "<span style=\"color:#33cc33\">Correct:</span> \n",
       "\n",
       "Since there are relatively few missing entries in the data (the column with the greatest percentage of missing values is missing less than 20% of its entries), we can expect that dropping columns is unlikely to yield good results.  This is because we'd be throwing away a lot of valuable data, and so imputation will likely perform better."
      ],
      "text/plain": [
       "Correct: \n",
       "\n",
       "Since there are relatively few missing entries in the data (the column with the greatest percentage of missing values is missing less than 20% of its entries), we can expect that dropping columns is unlikely to yield good results.  This is because we'd be throwing away a lot of valuable data, and so imputation will likely perform better."
      ]
     },
     "metadata": {},
     "output_type": "display_data"
    }
   ],
   "source": [
    "# Check your answer (Run this code cell to receive credit!)\n",
    "step_1.b.check()"
   ]
  },
  {
   "cell_type": "code",
   "execution_count": 8,
   "id": "5fb841e9",
   "metadata": {
    "execution": {
     "iopub.execute_input": "2023-03-01T11:21:30.398668Z",
     "iopub.status.busy": "2023-03-01T11:21:30.397795Z",
     "iopub.status.idle": "2023-03-01T11:21:30.402625Z",
     "shell.execute_reply": "2023-03-01T11:21:30.401484Z"
    },
    "papermill": {
     "duration": 0.018444,
     "end_time": "2023-03-01T11:21:30.405045",
     "exception": false,
     "start_time": "2023-03-01T11:21:30.386601",
     "status": "completed"
    },
    "tags": []
   },
   "outputs": [],
   "source": [
    "# step_1.b.hint()"
   ]
  },
  {
   "cell_type": "markdown",
   "id": "571eeacc",
   "metadata": {
    "papermill": {
     "duration": 0.009894,
     "end_time": "2023-03-01T11:21:30.425169",
     "exception": false,
     "start_time": "2023-03-01T11:21:30.415275",
     "status": "completed"
    },
    "tags": []
   },
   "source": [
    "To compare different approaches to dealing with missing values, you'll use the same `score_dataset()` function from the tutorial.  This function reports the [mean absolute error](https://en.wikipedia.org/wiki/Mean_absolute_error) (MAE) from a random forest model."
   ]
  },
  {
   "cell_type": "code",
   "execution_count": 9,
   "id": "1d5aaae8",
   "metadata": {
    "execution": {
     "iopub.execute_input": "2023-03-01T11:21:30.446863Z",
     "iopub.status.busy": "2023-03-01T11:21:30.446173Z",
     "iopub.status.idle": "2023-03-01T11:21:30.796373Z",
     "shell.execute_reply": "2023-03-01T11:21:30.794991Z"
    },
    "papermill": {
     "duration": 0.364205,
     "end_time": "2023-03-01T11:21:30.799223",
     "exception": false,
     "start_time": "2023-03-01T11:21:30.435018",
     "status": "completed"
    },
    "tags": []
   },
   "outputs": [],
   "source": [
    "from sklearn.ensemble import RandomForestRegressor\n",
    "from sklearn.metrics import mean_absolute_error\n",
    "\n",
    "# Function for comparing different approaches\n",
    "def score_dataset(X_train, X_valid, y_train, y_valid):\n",
    "    model = RandomForestRegressor(n_estimators=100, random_state=0)\n",
    "    model.fit(X_train, y_train)\n",
    "    preds = model.predict(X_valid)\n",
    "    return mean_absolute_error(y_valid, preds)"
   ]
  },
  {
   "cell_type": "markdown",
   "id": "45846215",
   "metadata": {
    "papermill": {
     "duration": 0.009419,
     "end_time": "2023-03-01T11:21:30.818566",
     "exception": false,
     "start_time": "2023-03-01T11:21:30.809147",
     "status": "completed"
    },
    "tags": []
   },
   "source": [
    "# Step 2: Drop columns with missing values\n",
    "\n",
    "In this step, you'll preprocess the data in `X_train` and `X_valid` to remove columns with missing values.  Set the preprocessed DataFrames to `reduced_X_train` and `reduced_X_valid`, respectively.  "
   ]
  },
  {
   "cell_type": "code",
   "execution_count": 10,
   "id": "6d1103ff",
   "metadata": {
    "execution": {
     "iopub.execute_input": "2023-03-01T11:21:30.840189Z",
     "iopub.status.busy": "2023-03-01T11:21:30.839737Z",
     "iopub.status.idle": "2023-03-01T11:21:30.870951Z",
     "shell.execute_reply": "2023-03-01T11:21:30.869739Z"
    },
    "papermill": {
     "duration": 0.044922,
     "end_time": "2023-03-01T11:21:30.873379",
     "exception": false,
     "start_time": "2023-03-01T11:21:30.828457",
     "status": "completed"
    },
    "tags": []
   },
   "outputs": [
    {
     "data": {
      "application/javascript": [
       "parent.postMessage({\"jupyterEvent\": \"custom.exercise_interaction\", \"data\": {\"outcomeType\": 1, \"valueTowardsCompletion\": 1.0, \"interactionType\": 1, \"questionType\": 2, \"questionId\": \"2_DropMissing\", \"learnToolsVersion\": \"0.3.4\", \"failureMessage\": \"\", \"exceptionClass\": \"\", \"trace\": \"\"}}, \"*\")"
      ],
      "text/plain": [
       "<IPython.core.display.Javascript object>"
      ]
     },
     "metadata": {},
     "output_type": "display_data"
    },
    {
     "data": {
      "text/markdown": [
       "<span style=\"color:#33cc33\">Correct</span>"
      ],
      "text/plain": [
       "Correct"
      ]
     },
     "metadata": {},
     "output_type": "display_data"
    }
   ],
   "source": [
    "# Fill in the line below: get names of columns with missing values\n",
    "cols_with_missing = [col for col in X_train.columns \n",
    "                    if X_train[col].isnull().any()] \n",
    "\n",
    "# Fill in the lines below: drop columns in training and validation data\n",
    "reduced_X_train = X_train.drop(cols_with_missing, axis=1)\n",
    "reduced_X_valid = X_valid.drop(cols_with_missing, axis=1)\n",
    "\n",
    "# Check your answers\n",
    "step_2.check()"
   ]
  },
  {
   "cell_type": "code",
   "execution_count": 11,
   "id": "460b3962",
   "metadata": {
    "execution": {
     "iopub.execute_input": "2023-03-01T11:21:30.896182Z",
     "iopub.status.busy": "2023-03-01T11:21:30.894923Z",
     "iopub.status.idle": "2023-03-01T11:21:30.899588Z",
     "shell.execute_reply": "2023-03-01T11:21:30.898661Z"
    },
    "papermill": {
     "duration": 0.018518,
     "end_time": "2023-03-01T11:21:30.901882",
     "exception": false,
     "start_time": "2023-03-01T11:21:30.883364",
     "status": "completed"
    },
    "tags": []
   },
   "outputs": [],
   "source": [
    "# Lines below will give you a hint or solution code\n",
    "# step_2.hint()\n",
    "# step_2.solution()"
   ]
  },
  {
   "cell_type": "markdown",
   "id": "5ee6b327",
   "metadata": {
    "papermill": {
     "duration": 0.009772,
     "end_time": "2023-03-01T11:21:30.921728",
     "exception": false,
     "start_time": "2023-03-01T11:21:30.911956",
     "status": "completed"
    },
    "tags": []
   },
   "source": [
    "Run the next code cell without changes to obtain the MAE for this approach."
   ]
  },
  {
   "cell_type": "code",
   "execution_count": 12,
   "id": "10a851cc",
   "metadata": {
    "execution": {
     "iopub.execute_input": "2023-03-01T11:21:30.944552Z",
     "iopub.status.busy": "2023-03-01T11:21:30.943358Z",
     "iopub.status.idle": "2023-03-01T11:21:32.068862Z",
     "shell.execute_reply": "2023-03-01T11:21:32.067235Z"
    },
    "papermill": {
     "duration": 1.139839,
     "end_time": "2023-03-01T11:21:32.071772",
     "exception": false,
     "start_time": "2023-03-01T11:21:30.931933",
     "status": "completed"
    },
    "tags": []
   },
   "outputs": [
    {
     "name": "stdout",
     "output_type": "stream",
     "text": [
      "MAE (Drop columns with missing values):\n",
      "17837.82570776256\n"
     ]
    }
   ],
   "source": [
    "print(\"MAE (Drop columns with missing values):\")\n",
    "print(score_dataset(reduced_X_train, reduced_X_valid, y_train, y_valid))"
   ]
  },
  {
   "cell_type": "markdown",
   "id": "cec4efdc",
   "metadata": {
    "papermill": {
     "duration": 0.010349,
     "end_time": "2023-03-01T11:21:32.092575",
     "exception": false,
     "start_time": "2023-03-01T11:21:32.082226",
     "status": "completed"
    },
    "tags": []
   },
   "source": [
    "# Step 3: Imputation\n",
    "\n",
    "### Part A\n",
    "\n",
    "Use the next code cell to impute missing values with the mean value along each column.  Set the preprocessed DataFrames to `imputed_X_train` and `imputed_X_valid`.  Make sure that the column names match those in `X_train` and `X_valid`."
   ]
  },
  {
   "cell_type": "code",
   "execution_count": 13,
   "id": "b6ce437e",
   "metadata": {
    "execution": {
     "iopub.execute_input": "2023-03-01T11:21:32.114836Z",
     "iopub.status.busy": "2023-03-01T11:21:32.114369Z",
     "iopub.status.idle": "2023-03-01T11:21:32.157709Z",
     "shell.execute_reply": "2023-03-01T11:21:32.156599Z"
    },
    "papermill": {
     "duration": 0.057397,
     "end_time": "2023-03-01T11:21:32.160232",
     "exception": false,
     "start_time": "2023-03-01T11:21:32.102835",
     "status": "completed"
    },
    "tags": []
   },
   "outputs": [
    {
     "data": {
      "application/javascript": [
       "parent.postMessage({\"jupyterEvent\": \"custom.exercise_interaction\", \"data\": {\"outcomeType\": 1, \"valueTowardsCompletion\": 1.0, \"interactionType\": 1, \"questionType\": 2, \"questionId\": \"3.1_ImputeCode\", \"learnToolsVersion\": \"0.3.4\", \"failureMessage\": \"\", \"exceptionClass\": \"\", \"trace\": \"\"}}, \"*\")"
      ],
      "text/plain": [
       "<IPython.core.display.Javascript object>"
      ]
     },
     "metadata": {},
     "output_type": "display_data"
    },
    {
     "data": {
      "text/markdown": [
       "<span style=\"color:#33cc33\">Correct</span>"
      ],
      "text/plain": [
       "Correct"
      ]
     },
     "metadata": {},
     "output_type": "display_data"
    }
   ],
   "source": [
    "from sklearn.impute import SimpleImputer\n",
    "\n",
    "# Fill in the lines below: imputation\n",
    "my_imputer = SimpleImputer() # Your code here\n",
    "imputed_X_train = pd.DataFrame(my_imputer.fit_transform(X_train))\n",
    "imputed_X_valid = pd.DataFrame(my_imputer.transform(X_valid))\n",
    "\n",
    "# Fill in the lines below: imputation removed column names; put them back\n",
    "imputed_X_train.columns = X_train.columns\n",
    "imputed_X_valid.columns = X_valid.columns\n",
    "\n",
    "# Check your answers\n",
    "step_3.a.check()"
   ]
  },
  {
   "cell_type": "code",
   "execution_count": 14,
   "id": "43206cad",
   "metadata": {
    "execution": {
     "iopub.execute_input": "2023-03-01T11:21:32.183204Z",
     "iopub.status.busy": "2023-03-01T11:21:32.182419Z",
     "iopub.status.idle": "2023-03-01T11:21:32.186921Z",
     "shell.execute_reply": "2023-03-01T11:21:32.185807Z"
    },
    "papermill": {
     "duration": 0.018628,
     "end_time": "2023-03-01T11:21:32.189335",
     "exception": false,
     "start_time": "2023-03-01T11:21:32.170707",
     "status": "completed"
    },
    "tags": []
   },
   "outputs": [],
   "source": [
    "# Lines below will give you a hint or solution code\n",
    "#step_3.a.hint()\n",
    "# step_3.a.solution()"
   ]
  },
  {
   "cell_type": "markdown",
   "id": "b79605cc",
   "metadata": {
    "papermill": {
     "duration": 0.010011,
     "end_time": "2023-03-01T11:21:32.209562",
     "exception": false,
     "start_time": "2023-03-01T11:21:32.199551",
     "status": "completed"
    },
    "tags": []
   },
   "source": [
    "Run the next code cell without changes to obtain the MAE for this approach."
   ]
  },
  {
   "cell_type": "code",
   "execution_count": 15,
   "id": "4279e50f",
   "metadata": {
    "execution": {
     "iopub.execute_input": "2023-03-01T11:21:32.232530Z",
     "iopub.status.busy": "2023-03-01T11:21:32.231730Z",
     "iopub.status.idle": "2023-03-01T11:21:33.476787Z",
     "shell.execute_reply": "2023-03-01T11:21:33.475370Z"
    },
    "papermill": {
     "duration": 1.25984,
     "end_time": "2023-03-01T11:21:33.479936",
     "exception": false,
     "start_time": "2023-03-01T11:21:32.220096",
     "status": "completed"
    },
    "tags": []
   },
   "outputs": [
    {
     "name": "stdout",
     "output_type": "stream",
     "text": [
      "MAE (Imputation):\n",
      "18062.894611872147\n"
     ]
    }
   ],
   "source": [
    "print(\"MAE (Imputation):\")\n",
    "print(score_dataset(imputed_X_train, imputed_X_valid, y_train, y_valid))"
   ]
  },
  {
   "cell_type": "markdown",
   "id": "a779c942",
   "metadata": {
    "papermill": {
     "duration": 0.010409,
     "end_time": "2023-03-01T11:21:33.501117",
     "exception": false,
     "start_time": "2023-03-01T11:21:33.490708",
     "status": "completed"
    },
    "tags": []
   },
   "source": [
    "### Part B\n",
    "\n",
    "Compare the MAE from each approach.  Does anything surprise you about the results?  Why do you think one approach performed better than the other?"
   ]
  },
  {
   "cell_type": "code",
   "execution_count": 16,
   "id": "ebca3f8b",
   "metadata": {
    "execution": {
     "iopub.execute_input": "2023-03-01T11:21:33.524428Z",
     "iopub.status.busy": "2023-03-01T11:21:33.523973Z",
     "iopub.status.idle": "2023-03-01T11:21:33.532677Z",
     "shell.execute_reply": "2023-03-01T11:21:33.531510Z"
    },
    "papermill": {
     "duration": 0.023298,
     "end_time": "2023-03-01T11:21:33.535111",
     "exception": false,
     "start_time": "2023-03-01T11:21:33.511813",
     "status": "completed"
    },
    "tags": []
   },
   "outputs": [
    {
     "data": {
      "application/javascript": [
       "parent.postMessage({\"jupyterEvent\": \"custom.exercise_interaction\", \"data\": {\"outcomeType\": 1, \"valueTowardsCompletion\": 1.0, \"interactionType\": 1, \"questionType\": 4, \"questionId\": \"3.2_ImputeThought\", \"learnToolsVersion\": \"0.3.4\", \"failureMessage\": \"\", \"exceptionClass\": \"\", \"trace\": \"\"}}, \"*\")"
      ],
      "text/plain": [
       "<IPython.core.display.Javascript object>"
      ]
     },
     "metadata": {},
     "output_type": "display_data"
    },
    {
     "data": {
      "text/markdown": [
       "<span style=\"color:#33cc33\">Correct:</span> \n",
       "\n",
       "Given that thre are so few missing values in the dataset, we'd expect imputation to perform better than dropping columns entirely.  However, we see that dropping columns performs slightly better!  While this can probably partially be attributed to noise in the dataset, another potential explanation is that the imputation method is not a great match to this dataset.  That is, maybe instead of filling in the mean value, it makes more sense to set every missing value to a value of 0, to fill in the most frequently encountered value, or to use some other method.  For instance, consider the `GarageYrBlt` column (which indicates the year that the garage was built).  It's likely that in some cases, a missing value could indicate a house that does not have a garage.  Does it make more sense to fill in the median value along each column in this case?  Or could we get better results by filling in the minimum value along each column?  It's not quite clear what's best in this case, but perhaps we can rule out some options immediately - for instance, setting missing values in this column to 0 is likely to yield horrible results!"
      ],
      "text/plain": [
       "Correct: \n",
       "\n",
       "Given that thre are so few missing values in the dataset, we'd expect imputation to perform better than dropping columns entirely.  However, we see that dropping columns performs slightly better!  While this can probably partially be attributed to noise in the dataset, another potential explanation is that the imputation method is not a great match to this dataset.  That is, maybe instead of filling in the mean value, it makes more sense to set every missing value to a value of 0, to fill in the most frequently encountered value, or to use some other method.  For instance, consider the `GarageYrBlt` column (which indicates the year that the garage was built).  It's likely that in some cases, a missing value could indicate a house that does not have a garage.  Does it make more sense to fill in the median value along each column in this case?  Or could we get better results by filling in the minimum value along each column?  It's not quite clear what's best in this case, but perhaps we can rule out some options immediately - for instance, setting missing values in this column to 0 is likely to yield horrible results!"
      ]
     },
     "metadata": {},
     "output_type": "display_data"
    }
   ],
   "source": [
    "# Check your answer (Run this code cell to receive credit!)\n",
    "step_3.b.check()"
   ]
  },
  {
   "cell_type": "code",
   "execution_count": 17,
   "id": "45fe2376",
   "metadata": {
    "execution": {
     "iopub.execute_input": "2023-03-01T11:21:33.559547Z",
     "iopub.status.busy": "2023-03-01T11:21:33.558773Z",
     "iopub.status.idle": "2023-03-01T11:21:33.563635Z",
     "shell.execute_reply": "2023-03-01T11:21:33.562493Z"
    },
    "papermill": {
     "duration": 0.020283,
     "end_time": "2023-03-01T11:21:33.566271",
     "exception": false,
     "start_time": "2023-03-01T11:21:33.545988",
     "status": "completed"
    },
    "tags": []
   },
   "outputs": [],
   "source": [
    "#step_3.b.hint()"
   ]
  },
  {
   "cell_type": "markdown",
   "id": "b6884a50",
   "metadata": {
    "papermill": {
     "duration": 0.010479,
     "end_time": "2023-03-01T11:21:33.587618",
     "exception": false,
     "start_time": "2023-03-01T11:21:33.577139",
     "status": "completed"
    },
    "tags": []
   },
   "source": [
    "# Step 4: Generate test predictions\n",
    "\n",
    "In this final step, you'll use any approach of your choosing to deal with missing values.  Once you've preprocessed the training and validation features, you'll train and evaluate a random forest model.  Then, you'll preprocess the test data before generating predictions that can be submitted to the competition!\n",
    "\n",
    "### Part A\n",
    "\n",
    "Use the next code cell to preprocess the training and validation data.  Set the preprocessed DataFrames to `final_X_train` and `final_X_valid`.  **You can use any approach of your choosing here!**  in order for this step to be marked as correct, you need only ensure:\n",
    "- the preprocessed DataFrames have the same number of columns,\n",
    "- the preprocessed DataFrames have no missing values, \n",
    "- `final_X_train` and `y_train` have the same number of rows, and\n",
    "- `final_X_valid` and `y_valid` have the same number of rows."
   ]
  },
  {
   "cell_type": "code",
   "execution_count": 18,
   "id": "20fa0f1e",
   "metadata": {
    "execution": {
     "iopub.execute_input": "2023-03-01T11:21:33.611441Z",
     "iopub.status.busy": "2023-03-01T11:21:33.610974Z",
     "iopub.status.idle": "2023-03-01T11:21:33.644124Z",
     "shell.execute_reply": "2023-03-01T11:21:33.642938Z"
    },
    "papermill": {
     "duration": 0.047889,
     "end_time": "2023-03-01T11:21:33.646436",
     "exception": false,
     "start_time": "2023-03-01T11:21:33.598547",
     "status": "completed"
    },
    "tags": []
   },
   "outputs": [
    {
     "data": {
      "application/javascript": [
       "parent.postMessage({\"jupyterEvent\": \"custom.exercise_interaction\", \"data\": {\"outcomeType\": 1, \"valueTowardsCompletion\": 1.0, \"interactionType\": 1, \"questionType\": 2, \"questionId\": \"4.1_PredsCodeA\", \"learnToolsVersion\": \"0.3.4\", \"failureMessage\": \"\", \"exceptionClass\": \"\", \"trace\": \"\"}}, \"*\")"
      ],
      "text/plain": [
       "<IPython.core.display.Javascript object>"
      ]
     },
     "metadata": {},
     "output_type": "display_data"
    },
    {
     "data": {
      "text/markdown": [
       "<span style=\"color:#33cc33\">Correct</span>"
      ],
      "text/plain": [
       "Correct"
      ]
     },
     "metadata": {},
     "output_type": "display_data"
    }
   ],
   "source": [
    "# Preprocessed training and validation features\n",
    "final_imputer = SimpleImputer(strategy='median')\n",
    "final_X_train = pd.DataFrame(final_imputer.fit_transform(X_train))\n",
    "final_X_valid = pd.DataFrame(final_imputer.transform(X_valid))\n",
    "\n",
    "# Imputation removed column names; put them back\n",
    "final_X_train.columns = X_train.columns\n",
    "final_X_valid.columns = X_valid.columns\n",
    "\n",
    "# Check your answers\n",
    "step_4.a.check()"
   ]
  },
  {
   "cell_type": "code",
   "execution_count": 19,
   "id": "0d5e71a5",
   "metadata": {
    "execution": {
     "iopub.execute_input": "2023-03-01T11:21:33.670631Z",
     "iopub.status.busy": "2023-03-01T11:21:33.670185Z",
     "iopub.status.idle": "2023-03-01T11:21:33.675304Z",
     "shell.execute_reply": "2023-03-01T11:21:33.673889Z"
    },
    "papermill": {
     "duration": 0.020066,
     "end_time": "2023-03-01T11:21:33.677691",
     "exception": false,
     "start_time": "2023-03-01T11:21:33.657625",
     "status": "completed"
    },
    "tags": []
   },
   "outputs": [],
   "source": [
    "# Lines below will give you a hint or solution code\n",
    "# step_4.a.hint()\n",
    "# step_4.a.solution()"
   ]
  },
  {
   "cell_type": "markdown",
   "id": "b3ab7574",
   "metadata": {
    "papermill": {
     "duration": 0.010648,
     "end_time": "2023-03-01T11:21:33.699469",
     "exception": false,
     "start_time": "2023-03-01T11:21:33.688821",
     "status": "completed"
    },
    "tags": []
   },
   "source": [
    "Run the next code cell to train and evaluate a random forest model.  (*Note that we don't use the `score_dataset()` function above, because we will soon use the trained model to generate test predictions!*)"
   ]
  },
  {
   "cell_type": "code",
   "execution_count": 20,
   "id": "a621efce",
   "metadata": {
    "execution": {
     "iopub.execute_input": "2023-03-01T11:21:33.724681Z",
     "iopub.status.busy": "2023-03-01T11:21:33.724257Z",
     "iopub.status.idle": "2023-03-01T11:21:34.979859Z",
     "shell.execute_reply": "2023-03-01T11:21:34.978341Z"
    },
    "papermill": {
     "duration": 1.271479,
     "end_time": "2023-03-01T11:21:34.982442",
     "exception": false,
     "start_time": "2023-03-01T11:21:33.710963",
     "status": "completed"
    },
    "tags": []
   },
   "outputs": [
    {
     "name": "stdout",
     "output_type": "stream",
     "text": [
      "MAE (Your approach):\n",
      "17791.59899543379\n"
     ]
    }
   ],
   "source": [
    "# Define and fit model\n",
    "model = RandomForestRegressor(n_estimators=100, random_state=0)\n",
    "model.fit(final_X_train, y_train)\n",
    "\n",
    "# Get validation predictions and MAE\n",
    "preds_valid = model.predict(final_X_valid)\n",
    "print(\"MAE (Your approach):\")\n",
    "print(mean_absolute_error(y_valid, preds_valid))"
   ]
  },
  {
   "cell_type": "markdown",
   "id": "14e57904",
   "metadata": {
    "papermill": {
     "duration": 0.011443,
     "end_time": "2023-03-01T11:21:35.005779",
     "exception": false,
     "start_time": "2023-03-01T11:21:34.994336",
     "status": "completed"
    },
    "tags": []
   },
   "source": [
    "### Part B\n",
    "\n",
    "Use the next code cell to preprocess your test data.  Make sure that you use a method that agrees with how you preprocessed the training and validation data, and set the preprocessed test features to `final_X_test`.\n",
    "\n",
    "Then, use the preprocessed test features and the trained model to generate test predictions in `preds_test`.\n",
    "\n",
    "In order for this step to be marked correct, you need only ensure:\n",
    "- the preprocessed test DataFrame has no missing values, and\n",
    "- `final_X_test` has the same number of rows as `X_test`."
   ]
  },
  {
   "cell_type": "code",
   "execution_count": 21,
   "id": "05beb3d5",
   "metadata": {
    "execution": {
     "iopub.execute_input": "2023-03-01T11:21:35.031433Z",
     "iopub.status.busy": "2023-03-01T11:21:35.030200Z",
     "iopub.status.idle": "2023-03-01T11:21:35.086844Z",
     "shell.execute_reply": "2023-03-01T11:21:35.085405Z"
    },
    "papermill": {
     "duration": 0.072058,
     "end_time": "2023-03-01T11:21:35.089547",
     "exception": false,
     "start_time": "2023-03-01T11:21:35.017489",
     "status": "completed"
    },
    "tags": []
   },
   "outputs": [
    {
     "data": {
      "application/javascript": [
       "parent.postMessage({\"jupyterEvent\": \"custom.exercise_interaction\", \"data\": {\"outcomeType\": 1, \"valueTowardsCompletion\": 1.0, \"interactionType\": 1, \"questionType\": 2, \"questionId\": \"4.2_PredsCodeB\", \"learnToolsVersion\": \"0.3.4\", \"failureMessage\": \"\", \"exceptionClass\": \"\", \"trace\": \"\"}}, \"*\")"
      ],
      "text/plain": [
       "<IPython.core.display.Javascript object>"
      ]
     },
     "metadata": {},
     "output_type": "display_data"
    },
    {
     "data": {
      "text/markdown": [
       "<span style=\"color:#33cc33\">Correct</span>"
      ],
      "text/plain": [
       "Correct"
      ]
     },
     "metadata": {},
     "output_type": "display_data"
    }
   ],
   "source": [
    "# Fill in the line below: preprocess test data\n",
    "\n",
    "final_X_test = pd.DataFrame(my_imputer.transform(X_test))\n",
    "# Imputation removed column names; put them back\n",
    "final_X_test.columns = X_test.columns\n",
    "\n",
    "# Fill in the line below: get test predictions\n",
    "preds_test = model.predict(final_X_test)\n",
    "\n",
    "# Check your answers\n",
    "step_4.b.check()"
   ]
  },
  {
   "cell_type": "code",
   "execution_count": 22,
   "id": "b8d68586",
   "metadata": {
    "execution": {
     "iopub.execute_input": "2023-03-01T11:21:35.114295Z",
     "iopub.status.busy": "2023-03-01T11:21:35.113831Z",
     "iopub.status.idle": "2023-03-01T11:21:35.118525Z",
     "shell.execute_reply": "2023-03-01T11:21:35.117517Z"
    },
    "papermill": {
     "duration": 0.019644,
     "end_time": "2023-03-01T11:21:35.120590",
     "exception": false,
     "start_time": "2023-03-01T11:21:35.100946",
     "status": "completed"
    },
    "tags": []
   },
   "outputs": [],
   "source": [
    "# Lines below will give you a hint or solution code\n",
    "# step_4.b.hint()\n",
    "# step_4.b.solution()"
   ]
  },
  {
   "cell_type": "markdown",
   "id": "34f20548",
   "metadata": {
    "papermill": {
     "duration": 0.010955,
     "end_time": "2023-03-01T11:21:35.142864",
     "exception": false,
     "start_time": "2023-03-01T11:21:35.131909",
     "status": "completed"
    },
    "tags": []
   },
   "source": [
    "Run the next code cell without changes to save your results to a CSV file that can be submitted directly to the competition."
   ]
  },
  {
   "cell_type": "code",
   "execution_count": 23,
   "id": "7b13ae1a",
   "metadata": {
    "execution": {
     "iopub.execute_input": "2023-03-01T11:21:35.168415Z",
     "iopub.status.busy": "2023-03-01T11:21:35.167187Z",
     "iopub.status.idle": "2023-03-01T11:21:35.181776Z",
     "shell.execute_reply": "2023-03-01T11:21:35.180710Z"
    },
    "papermill": {
     "duration": 0.030026,
     "end_time": "2023-03-01T11:21:35.184469",
     "exception": false,
     "start_time": "2023-03-01T11:21:35.154443",
     "status": "completed"
    },
    "tags": []
   },
   "outputs": [],
   "source": [
    "# Save test predictions to file\n",
    "output = pd.DataFrame({'Id': X_test.index,\n",
    "                       'SalePrice': preds_test})\n",
    "output.to_csv('submission.csv', index=False)"
   ]
  },
  {
   "cell_type": "markdown",
   "id": "10880ecc",
   "metadata": {
    "papermill": {
     "duration": 0.011198,
     "end_time": "2023-03-01T11:21:35.207232",
     "exception": false,
     "start_time": "2023-03-01T11:21:35.196034",
     "status": "completed"
    },
    "tags": []
   },
   "source": [
    "# Submit your results\n",
    "\n",
    "Once you have successfully completed Step 4, you're ready to submit your results to the leaderboard!  (_You also learned how to do this in the previous exercise.  If you need a reminder of how to do this, please use the instructions below._)  \n",
    "\n",
    "First, you'll need to join the competition if you haven't already.  So open a new window by clicking on [this link](https://www.kaggle.com/c/home-data-for-ml-course).  Then click on the **Join Competition** button.\n",
    "\n",
    "![join competition image](https://i.imgur.com/wLmFtH3.png)\n",
    "\n",
    "Next, follow the instructions below:\n",
    "1. Begin by clicking on the **Save Version** button in the top right corner of the window.  This will generate a pop-up window.  \n",
    "2. Ensure that the **Save and Run All** option is selected, and then click on the **Save** button.\n",
    "3. This generates a window in the bottom left corner of the notebook.  After it has finished running, click on the number to the right of the **Save Version** button.  This pulls up a list of versions on the right of the screen.  Click on the ellipsis **(...)** to the right of the most recent version, and select **Open in Viewer**.  This brings you into view mode of the same page. You will need to scroll down to get back to these instructions.\n",
    "4. Click on the **Output** tab on the right of the screen.  Then, click on the file you would like to submit, and click on the **Submit** button to submit your results to the leaderboard.\n",
    "\n",
    "You have now successfully submitted to the competition!\n",
    "\n",
    "If you want to keep working to improve your performance, select the **Edit** button in the top right of the screen. Then you can change your code and repeat the process. There's a lot of room to improve, and you will climb up the leaderboard as you work.\n",
    "\n",
    "\n",
    "# Keep going\n",
    "\n",
    "Move on to learn what **[categorical variables](https://www.kaggle.com/alexisbcook/categorical-variables)** are, along with how to incorporate them into your machine learning models.  Categorical variables are very common in real-world data, but you'll get an error if you try to plug them into your models without processing them first!"
   ]
  },
  {
   "cell_type": "markdown",
   "id": "77838e53",
   "metadata": {
    "papermill": {
     "duration": 0.011015,
     "end_time": "2023-03-01T11:21:35.229722",
     "exception": false,
     "start_time": "2023-03-01T11:21:35.218707",
     "status": "completed"
    },
    "tags": []
   },
   "source": [
    "---\n",
    "\n",
    "\n",
    "\n",
    "\n",
    "*Have questions or comments? Visit the [course discussion forum](https://www.kaggle.com/learn/intermediate-machine-learning/discussion) to chat with other learners.*"
   ]
  }
 ],
 "metadata": {
  "kernelspec": {
   "display_name": "Python 3",
   "language": "python",
   "name": "python3"
  },
  "language_info": {
   "codemirror_mode": {
    "name": "ipython",
    "version": 3
   },
   "file_extension": ".py",
   "mimetype": "text/x-python",
   "name": "python",
   "nbconvert_exporter": "python",
   "pygments_lexer": "ipython3",
   "version": "3.7.12"
  },
  "papermill": {
   "default_parameters": {},
   "duration": 17.985677,
   "end_time": "2023-03-01T11:21:36.064294",
   "environment_variables": {},
   "exception": null,
   "input_path": "__notebook__.ipynb",
   "output_path": "__notebook__.ipynb",
   "parameters": {},
   "start_time": "2023-03-01T11:21:18.078617",
   "version": "2.4.0"
  }
 },
 "nbformat": 4,
 "nbformat_minor": 5
}
