{
 "cells": [
  {
   "cell_type": "markdown",
   "id": "77deb04c",
   "metadata": {
    "papermill": {
     "duration": 0.009879,
     "end_time": "2023-02-23T21:07:40.652742",
     "exception": false,
     "start_time": "2023-02-23T21:07:40.642863",
     "status": "completed"
    },
    "tags": []
   },
   "source": [
    "**This notebook is an exercise in the [Introduction to Machine Learning](https://www.kaggle.com/learn/intro-to-machine-learning) course.  You can reference the tutorial at [this link](https://www.kaggle.com/dansbecker/underfitting-and-overfitting).**\n",
    "\n",
    "---\n"
   ]
  },
  {
   "cell_type": "markdown",
   "id": "65e558d8",
   "metadata": {
    "papermill": {
     "duration": 0.003544,
     "end_time": "2023-02-23T21:07:40.660837",
     "exception": false,
     "start_time": "2023-02-23T21:07:40.657293",
     "status": "completed"
    },
    "tags": []
   },
   "source": [
    "## Recap\n",
    "You've built your first model, and now it's time to optimize the size of the tree to make better predictions. Run this cell to set up your coding environment where the previous step left off."
   ]
  },
  {
   "cell_type": "code",
   "execution_count": 1,
   "id": "7e629416",
   "metadata": {
    "execution": {
     "iopub.execute_input": "2023-02-23T21:07:40.671101Z",
     "iopub.status.busy": "2023-02-23T21:07:40.670189Z",
     "iopub.status.idle": "2023-02-23T21:07:42.228652Z",
     "shell.execute_reply": "2023-02-23T21:07:42.227345Z"
    },
    "papermill": {
     "duration": 1.567637,
     "end_time": "2023-02-23T21:07:42.232674",
     "exception": false,
     "start_time": "2023-02-23T21:07:40.665037",
     "status": "completed"
    },
    "tags": []
   },
   "outputs": [
    {
     "name": "stdout",
     "output_type": "stream",
     "text": [
      "Validation MAE: 29,653\n",
      "\n",
      "Setup complete\n"
     ]
    }
   ],
   "source": [
    "# Code you have previously used to load data\n",
    "import pandas as pd\n",
    "from sklearn.metrics import mean_absolute_error\n",
    "from sklearn.model_selection import train_test_split\n",
    "from sklearn.tree import DecisionTreeRegressor\n",
    "\n",
    "\n",
    "# Path of the file to read\n",
    "iowa_file_path = '../input/home-data-for-ml-course/train.csv'\n",
    "\n",
    "home_data = pd.read_csv(iowa_file_path)\n",
    "# Create target object and call it y\n",
    "y = home_data.SalePrice\n",
    "# Create X\n",
    "features = ['LotArea', 'YearBuilt', '1stFlrSF', '2ndFlrSF', 'FullBath', 'BedroomAbvGr', 'TotRmsAbvGrd']\n",
    "X = home_data[features]\n",
    "\n",
    "# Split into validation and training data\n",
    "train_X, val_X, train_y, val_y = train_test_split(X, y, random_state=1)\n",
    "\n",
    "# Specify Model\n",
    "iowa_model = DecisionTreeRegressor(random_state=1)\n",
    "# Fit Model\n",
    "iowa_model.fit(train_X, train_y)\n",
    "\n",
    "# Make validation predictions and calculate mean absolute error\n",
    "val_predictions = iowa_model.predict(val_X)\n",
    "val_mae = mean_absolute_error(val_predictions, val_y)\n",
    "print(\"Validation MAE: {:,.0f}\".format(val_mae))\n",
    "\n",
    "# Set up code checking\n",
    "from learntools.core import binder\n",
    "binder.bind(globals())\n",
    "from learntools.machine_learning.ex5 import *\n",
    "print(\"\\nSetup complete\")"
   ]
  },
  {
   "cell_type": "markdown",
   "id": "6b535ba2",
   "metadata": {
    "papermill": {
     "duration": 0.003532,
     "end_time": "2023-02-23T21:07:42.240291",
     "exception": false,
     "start_time": "2023-02-23T21:07:42.236759",
     "status": "completed"
    },
    "tags": []
   },
   "source": [
    "# Exercises\n",
    "You could write the function `get_mae` yourself. For now, we'll supply it. This is the same function you read about in the previous lesson. Just run the cell below."
   ]
  },
  {
   "cell_type": "code",
   "execution_count": 2,
   "id": "b1040daa",
   "metadata": {
    "execution": {
     "iopub.execute_input": "2023-02-23T21:07:42.250376Z",
     "iopub.status.busy": "2023-02-23T21:07:42.249343Z",
     "iopub.status.idle": "2023-02-23T21:07:42.256157Z",
     "shell.execute_reply": "2023-02-23T21:07:42.254841Z"
    },
    "papermill": {
     "duration": 0.014253,
     "end_time": "2023-02-23T21:07:42.258337",
     "exception": false,
     "start_time": "2023-02-23T21:07:42.244084",
     "status": "completed"
    },
    "tags": []
   },
   "outputs": [],
   "source": [
    "def get_mae(max_leaf_nodes, train_X, val_X, train_y, val_y):\n",
    "    model = DecisionTreeRegressor(max_leaf_nodes=max_leaf_nodes, random_state=0)\n",
    "    model.fit(train_X, train_y)\n",
    "    preds_val = model.predict(val_X)\n",
    "    mae = mean_absolute_error(val_y, preds_val)\n",
    "    return(mae)"
   ]
  },
  {
   "cell_type": "markdown",
   "id": "1fae759c",
   "metadata": {
    "papermill": {
     "duration": 0.003318,
     "end_time": "2023-02-23T21:07:42.265393",
     "exception": false,
     "start_time": "2023-02-23T21:07:42.262075",
     "status": "completed"
    },
    "tags": []
   },
   "source": [
    "## Step 1: Compare Different Tree Sizes\n",
    "Write a loop that tries the following values for *max_leaf_nodes* from a set of possible values.\n",
    "\n",
    "Call the *get_mae* function on each value of max_leaf_nodes. Store the output in some way that allows you to select the value of `max_leaf_nodes` that gives the most accurate model on your data."
   ]
  },
  {
   "cell_type": "code",
   "execution_count": 3,
   "id": "5ff9a593",
   "metadata": {
    "execution": {
     "iopub.execute_input": "2023-02-23T21:07:42.274872Z",
     "iopub.status.busy": "2023-02-23T21:07:42.274014Z",
     "iopub.status.idle": "2023-02-23T21:07:42.330103Z",
     "shell.execute_reply": "2023-02-23T21:07:42.328082Z"
    },
    "papermill": {
     "duration": 0.063788,
     "end_time": "2023-02-23T21:07:42.332725",
     "exception": false,
     "start_time": "2023-02-23T21:07:42.268937",
     "status": "completed"
    },
    "tags": []
   },
   "outputs": [
    {
     "name": "stdout",
     "output_type": "stream",
     "text": [
      "Max Leaf Nodes:  5 \t\t Mean Absolute Error: 35,044.51\n",
      "Max Leaf Nodes:  25 \t\t Mean Absolute Error: 29,016.41\n",
      "Max Leaf Nodes:  50 \t\t Mean Absolute Error: 27,405.93\n",
      "Max Leaf Nodes:  100 \t\t Mean Absolute Error: 27,282.51\n",
      "Max Leaf Nodes:  250 \t\t Mean Absolute Error: 27,893.82\n",
      "Max Leaf Nodes:  500 \t\t Mean Absolute Error: 29,454.19\n"
     ]
    },
    {
     "data": {
      "application/javascript": [
       "parent.postMessage({\"jupyterEvent\": \"custom.exercise_interaction\", \"data\": {\"outcomeType\": 1, \"valueTowardsCompletion\": 0.5, \"interactionType\": 1, \"questionType\": 1, \"questionId\": \"1_BestTreeSize\", \"learnToolsVersion\": \"0.3.4\", \"failureMessage\": \"\", \"exceptionClass\": \"\", \"trace\": \"\"}}, \"*\")"
      ],
      "text/plain": [
       "<IPython.core.display.Javascript object>"
      ]
     },
     "metadata": {},
     "output_type": "display_data"
    },
    {
     "data": {
      "text/markdown": [
       "<span style=\"color:#33cc33\">Correct</span>"
      ],
      "text/plain": [
       "Correct"
      ]
     },
     "metadata": {},
     "output_type": "display_data"
    }
   ],
   "source": [
    "candidate_max_leaf_nodes = [5, 25, 50, 100, 250, 500]\n",
    "# Write loop to find the ideal tree size from candidate_max_leaf_nodes\n",
    "for max_leaf_nodes in candidate_max_leaf_nodes:\n",
    "    my_mae = get_mae(max_leaf_nodes, train_X, val_X, train_y, val_y)\n",
    "    print(\"Max Leaf Nodes: \", max_leaf_nodes, \"\\t\\t Mean Absolute Error: {:,.2f}\" .format(my_mae))\n",
    "\n",
    "# Store the best value of max_leaf_nodes (it will be either 5, 25, 50, 100, 250 or 500)\n",
    "best_tree_size = 100\n",
    "\n",
    "# Check your answer\n",
    "step_1.check()"
   ]
  },
  {
   "cell_type": "code",
   "execution_count": 4,
   "id": "31ed1fee",
   "metadata": {
    "execution": {
     "iopub.execute_input": "2023-02-23T21:07:42.344888Z",
     "iopub.status.busy": "2023-02-23T21:07:42.344252Z",
     "iopub.status.idle": "2023-02-23T21:07:42.348332Z",
     "shell.execute_reply": "2023-02-23T21:07:42.347400Z"
    },
    "papermill": {
     "duration": 0.013908,
     "end_time": "2023-02-23T21:07:42.351106",
     "exception": false,
     "start_time": "2023-02-23T21:07:42.337198",
     "status": "completed"
    },
    "tags": []
   },
   "outputs": [],
   "source": [
    "# The lines below will show you a hint or the solution.\n",
    "# step_1.hint() \n",
    "# step_1.solution()"
   ]
  },
  {
   "cell_type": "markdown",
   "id": "77953f14",
   "metadata": {
    "papermill": {
     "duration": 0.003824,
     "end_time": "2023-02-23T21:07:42.359769",
     "exception": false,
     "start_time": "2023-02-23T21:07:42.355945",
     "status": "completed"
    },
    "tags": []
   },
   "source": [
    "## Step 2: Fit Model Using All Data\n",
    "You know the best tree size. If you were going to deploy this model in practice, you would make it even more accurate by using all of the data and keeping that tree size.  That is, you don't need to hold out the validation data now that you've made all your modeling decisions."
   ]
  },
  {
   "cell_type": "code",
   "execution_count": 5,
   "id": "5f8757aa",
   "metadata": {
    "execution": {
     "iopub.execute_input": "2023-02-23T21:07:42.377211Z",
     "iopub.status.busy": "2023-02-23T21:07:42.376213Z",
     "iopub.status.idle": "2023-02-23T21:07:42.397406Z",
     "shell.execute_reply": "2023-02-23T21:07:42.396027Z"
    },
    "papermill": {
     "duration": 0.033876,
     "end_time": "2023-02-23T21:07:42.400576",
     "exception": false,
     "start_time": "2023-02-23T21:07:42.366700",
     "status": "completed"
    },
    "tags": []
   },
   "outputs": [
    {
     "data": {
      "application/javascript": [
       "parent.postMessage({\"jupyterEvent\": \"custom.exercise_interaction\", \"data\": {\"outcomeType\": 1, \"valueTowardsCompletion\": 0.5, \"interactionType\": 1, \"questionType\": 2, \"questionId\": \"2_FitModelWithAllData\", \"learnToolsVersion\": \"0.3.4\", \"failureMessage\": \"\", \"exceptionClass\": \"\", \"trace\": \"\"}}, \"*\")"
      ],
      "text/plain": [
       "<IPython.core.display.Javascript object>"
      ]
     },
     "metadata": {},
     "output_type": "display_data"
    },
    {
     "data": {
      "text/markdown": [
       "<span style=\"color:#33cc33\">Correct</span>"
      ],
      "text/plain": [
       "Correct"
      ]
     },
     "metadata": {},
     "output_type": "display_data"
    }
   ],
   "source": [
    "# Fill in argument to make optimal size and uncomment\n",
    "final_model = DecisionTreeRegressor(max_leaf_nodes = 100, random_state = 1)\n",
    "\n",
    "# fit the final model and uncomment the next two lines\n",
    "final_model.fit(X, y)\n",
    "\n",
    "# Check your answer\n",
    "step_2.check()"
   ]
  },
  {
   "cell_type": "code",
   "execution_count": 6,
   "id": "abf9f449",
   "metadata": {
    "execution": {
     "iopub.execute_input": "2023-02-23T21:07:42.415539Z",
     "iopub.status.busy": "2023-02-23T21:07:42.414469Z",
     "iopub.status.idle": "2023-02-23T21:07:42.420447Z",
     "shell.execute_reply": "2023-02-23T21:07:42.419177Z"
    },
    "papermill": {
     "duration": 0.016642,
     "end_time": "2023-02-23T21:07:42.422981",
     "exception": false,
     "start_time": "2023-02-23T21:07:42.406339",
     "status": "completed"
    },
    "tags": []
   },
   "outputs": [],
   "source": [
    "# step_2.hint()\n",
    "# step_2.solution()"
   ]
  },
  {
   "cell_type": "markdown",
   "id": "5d509690",
   "metadata": {
    "papermill": {
     "duration": 0.003941,
     "end_time": "2023-02-23T21:07:42.431257",
     "exception": false,
     "start_time": "2023-02-23T21:07:42.427316",
     "status": "completed"
    },
    "tags": []
   },
   "source": [
    "You've tuned this model and improved your results. But we are still using Decision Tree models, which are not very sophisticated by modern machine learning standards. In the next step you will learn to use Random Forests to improve your models even more.\n",
    "\n",
    "# Keep Going\n",
    "\n",
    "You are ready for **[Random Forests](https://www.kaggle.com/dansbecker/random-forests).**\n"
   ]
  },
  {
   "cell_type": "markdown",
   "id": "2da64153",
   "metadata": {
    "papermill": {
     "duration": 0.004424,
     "end_time": "2023-02-23T21:07:42.440147",
     "exception": false,
     "start_time": "2023-02-23T21:07:42.435723",
     "status": "completed"
    },
    "tags": []
   },
   "source": [
    "---\n",
    "\n",
    "\n",
    "\n",
    "\n",
    "*Have questions or comments? Visit the [course discussion forum](https://www.kaggle.com/learn/intro-to-machine-learning/discussion) to chat with other learners.*"
   ]
  }
 ],
 "metadata": {
  "kernelspec": {
   "display_name": "Python 3",
   "language": "python",
   "name": "python3"
  },
  "language_info": {
   "codemirror_mode": {
    "name": "ipython",
    "version": 3
   },
   "file_extension": ".py",
   "mimetype": "text/x-python",
   "name": "python",
   "nbconvert_exporter": "python",
   "pygments_lexer": "ipython3",
   "version": "3.7.12"
  },
  "papermill": {
   "default_parameters": {},
   "duration": 11.817906,
   "end_time": "2023-02-23T21:07:43.267747",
   "environment_variables": {},
   "exception": null,
   "input_path": "__notebook__.ipynb",
   "output_path": "__notebook__.ipynb",
   "parameters": {},
   "start_time": "2023-02-23T21:07:31.449841",
   "version": "2.3.4"
  }
 },
 "nbformat": 4,
 "nbformat_minor": 5
}
