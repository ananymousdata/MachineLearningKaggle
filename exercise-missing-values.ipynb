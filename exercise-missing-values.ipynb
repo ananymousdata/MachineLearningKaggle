{
 "cells": [
  {
   "cell_type": "markdown",
   "id": "5c9fc496",
   "metadata": {
    "papermill": {
     "duration": 0.010064,
     "end_time": "2023-03-01T11:18:06.566656",
     "exception": false,
     "start_time": "2023-03-01T11:18:06.556592",
     "status": "completed"
    },
    "tags": []
   },
   "source": [
    "**This notebook is an exercise in the [Intermediate Machine Learning](https://www.kaggle.com/learn/intermediate-machine-learning) course.  You can reference the tutorial at [this link](https://www.kaggle.com/alexisbcook/missing-values).**\n",
    "\n",
    "---\n"
   ]
  },
  {
   "cell_type": "markdown",
   "id": "87ed6290",
   "metadata": {
    "papermill": {
     "duration": 0.007831,
     "end_time": "2023-03-01T11:18:06.583013",
     "exception": false,
     "start_time": "2023-03-01T11:18:06.575182",
     "status": "completed"
    },
    "tags": []
   },
   "source": [
    "Now it's your turn to test your new knowledge of **missing values** handling. You'll probably find it makes a big difference.\n",
    "\n",
    "# Setup\n",
    "\n",
    "The questions will give you feedback on your work. Run the following cell to set up the feedback system."
   ]
  },
  {
   "cell_type": "code",
   "execution_count": 1,
   "id": "4ee96bf6",
   "metadata": {
    "execution": {
     "iopub.execute_input": "2023-03-01T11:18:06.602016Z",
     "iopub.status.busy": "2023-03-01T11:18:06.601243Z",
     "iopub.status.idle": "2023-03-01T11:18:06.660549Z",
     "shell.execute_reply": "2023-03-01T11:18:06.659557Z"
    },
    "papermill": {
     "duration": 0.071657,
     "end_time": "2023-03-01T11:18:06.662877",
     "exception": false,
     "start_time": "2023-03-01T11:18:06.591220",
     "status": "completed"
    },
    "tags": []
   },
   "outputs": [
    {
     "name": "stdout",
     "output_type": "stream",
     "text": [
      "Setup Complete\n"
     ]
    }
   ],
   "source": [
    "# Set up code checking\n",
    "import os\n",
    "if not os.path.exists(\"../input/train.csv\"):\n",
    "    os.symlink(\"../input/home-data-for-ml-course/train.csv\", \"../input/train.csv\")  \n",
    "    os.symlink(\"../input/home-data-for-ml-course/test.csv\", \"../input/test.csv\") \n",
    "from learntools.core import binder\n",
    "binder.bind(globals())\n",
    "from learntools.ml_intermediate.ex2 import *\n",
    "print(\"Setup Complete\")"
   ]
  },
  {
   "cell_type": "markdown",
   "id": "ae0162c0",
   "metadata": {
    "papermill": {
     "duration": 0.007854,
     "end_time": "2023-03-01T11:18:06.679172",
     "exception": false,
     "start_time": "2023-03-01T11:18:06.671318",
     "status": "completed"
    },
    "tags": []
   },
   "source": [
    "In this exercise, you will work with data from the [Housing Prices Competition for Kaggle Learn Users](https://www.kaggle.com/c/home-data-for-ml-course). \n",
    "\n",
    "![Ames Housing dataset image](https://i.imgur.com/lTJVG4e.png)\n",
    "\n",
    "Run the next code cell without changes to load the training and validation sets in `X_train`, `X_valid`, `y_train`, and `y_valid`.  The test set is loaded in `X_test`."
   ]
  },
  {
   "cell_type": "code",
   "execution_count": 2,
   "id": "8fb229f8",
   "metadata": {
    "execution": {
     "iopub.execute_input": "2023-03-01T11:18:06.697515Z",
     "iopub.status.busy": "2023-03-01T11:18:06.697049Z",
     "iopub.status.idle": "2023-03-01T11:18:07.991658Z",
     "shell.execute_reply": "2023-03-01T11:18:07.990565Z"
    },
    "papermill": {
     "duration": 1.306968,
     "end_time": "2023-03-01T11:18:07.994395",
     "exception": false,
     "start_time": "2023-03-01T11:18:06.687427",
     "status": "completed"
    },
    "tags": []
   },
   "outputs": [],
   "source": [
    "import pandas as pd\n",
    "from sklearn.model_selection import train_test_split\n",
    "\n",
    "# Read the data\n",
    "X_full = pd.read_csv('../input/train.csv', index_col='Id')\n",
    "X_test_full = pd.read_csv('../input/test.csv', index_col='Id')\n",
    "\n",
    "# Remove rows with missing target, separate target from predictors\n",
    "X_full.dropna(axis=0, subset=['SalePrice'], inplace=True)\n",
    "y = X_full.SalePrice\n",
    "X_full.drop(['SalePrice'], axis=1, inplace=True)\n",
    "\n",
    "# To keep things simple, we'll use only numerical predictors\n",
    "X = X_full.select_dtypes(exclude=['object'])\n",
    "X_test = X_test_full.select_dtypes(exclude=['object'])\n",
    "\n",
    "# Break off validation set from training data\n",
    "X_train, X_valid, y_train, y_valid = train_test_split(X, y, train_size=0.8, test_size=0.2,\n",
    "                                                      random_state=0)"
   ]
  },
  {
   "cell_type": "markdown",
   "id": "a78720bd",
   "metadata": {
    "papermill": {
     "duration": 0.007521,
     "end_time": "2023-03-01T11:18:08.010209",
     "exception": false,
     "start_time": "2023-03-01T11:18:08.002688",
     "status": "completed"
    },
    "tags": []
   },
   "source": [
    "Use the next code cell to print the first five rows of the data."
   ]
  },
  {
   "cell_type": "code",
   "execution_count": 3,
   "id": "1f5e30f2",
   "metadata": {
    "execution": {
     "iopub.execute_input": "2023-03-01T11:18:08.028286Z",
     "iopub.status.busy": "2023-03-01T11:18:08.027616Z",
     "iopub.status.idle": "2023-03-01T11:18:08.059595Z",
     "shell.execute_reply": "2023-03-01T11:18:08.058652Z"
    },
    "papermill": {
     "duration": 0.043924,
     "end_time": "2023-03-01T11:18:08.062136",
     "exception": false,
     "start_time": "2023-03-01T11:18:08.018212",
     "status": "completed"
    },
    "tags": []
   },
   "outputs": [
    {
     "data": {
      "text/html": [
       "<div>\n",
       "<style scoped>\n",
       "    .dataframe tbody tr th:only-of-type {\n",
       "        vertical-align: middle;\n",
       "    }\n",
       "\n",
       "    .dataframe tbody tr th {\n",
       "        vertical-align: top;\n",
       "    }\n",
       "\n",
       "    .dataframe thead th {\n",
       "        text-align: right;\n",
       "    }\n",
       "</style>\n",
       "<table border=\"1\" class=\"dataframe\">\n",
       "  <thead>\n",
       "    <tr style=\"text-align: right;\">\n",
       "      <th></th>\n",
       "      <th>MSSubClass</th>\n",
       "      <th>LotFrontage</th>\n",
       "      <th>LotArea</th>\n",
       "      <th>OverallQual</th>\n",
       "      <th>OverallCond</th>\n",
       "      <th>YearBuilt</th>\n",
       "      <th>YearRemodAdd</th>\n",
       "      <th>MasVnrArea</th>\n",
       "      <th>BsmtFinSF1</th>\n",
       "      <th>BsmtFinSF2</th>\n",
       "      <th>...</th>\n",
       "      <th>GarageArea</th>\n",
       "      <th>WoodDeckSF</th>\n",
       "      <th>OpenPorchSF</th>\n",
       "      <th>EnclosedPorch</th>\n",
       "      <th>3SsnPorch</th>\n",
       "      <th>ScreenPorch</th>\n",
       "      <th>PoolArea</th>\n",
       "      <th>MiscVal</th>\n",
       "      <th>MoSold</th>\n",
       "      <th>YrSold</th>\n",
       "    </tr>\n",
       "    <tr>\n",
       "      <th>Id</th>\n",
       "      <th></th>\n",
       "      <th></th>\n",
       "      <th></th>\n",
       "      <th></th>\n",
       "      <th></th>\n",
       "      <th></th>\n",
       "      <th></th>\n",
       "      <th></th>\n",
       "      <th></th>\n",
       "      <th></th>\n",
       "      <th></th>\n",
       "      <th></th>\n",
       "      <th></th>\n",
       "      <th></th>\n",
       "      <th></th>\n",
       "      <th></th>\n",
       "      <th></th>\n",
       "      <th></th>\n",
       "      <th></th>\n",
       "      <th></th>\n",
       "      <th></th>\n",
       "    </tr>\n",
       "  </thead>\n",
       "  <tbody>\n",
       "    <tr>\n",
       "      <th>619</th>\n",
       "      <td>20</td>\n",
       "      <td>90.0</td>\n",
       "      <td>11694</td>\n",
       "      <td>9</td>\n",
       "      <td>5</td>\n",
       "      <td>2007</td>\n",
       "      <td>2007</td>\n",
       "      <td>452.0</td>\n",
       "      <td>48</td>\n",
       "      <td>0</td>\n",
       "      <td>...</td>\n",
       "      <td>774</td>\n",
       "      <td>0</td>\n",
       "      <td>108</td>\n",
       "      <td>0</td>\n",
       "      <td>0</td>\n",
       "      <td>260</td>\n",
       "      <td>0</td>\n",
       "      <td>0</td>\n",
       "      <td>7</td>\n",
       "      <td>2007</td>\n",
       "    </tr>\n",
       "    <tr>\n",
       "      <th>871</th>\n",
       "      <td>20</td>\n",
       "      <td>60.0</td>\n",
       "      <td>6600</td>\n",
       "      <td>5</td>\n",
       "      <td>5</td>\n",
       "      <td>1962</td>\n",
       "      <td>1962</td>\n",
       "      <td>0.0</td>\n",
       "      <td>0</td>\n",
       "      <td>0</td>\n",
       "      <td>...</td>\n",
       "      <td>308</td>\n",
       "      <td>0</td>\n",
       "      <td>0</td>\n",
       "      <td>0</td>\n",
       "      <td>0</td>\n",
       "      <td>0</td>\n",
       "      <td>0</td>\n",
       "      <td>0</td>\n",
       "      <td>8</td>\n",
       "      <td>2009</td>\n",
       "    </tr>\n",
       "    <tr>\n",
       "      <th>93</th>\n",
       "      <td>30</td>\n",
       "      <td>80.0</td>\n",
       "      <td>13360</td>\n",
       "      <td>5</td>\n",
       "      <td>7</td>\n",
       "      <td>1921</td>\n",
       "      <td>2006</td>\n",
       "      <td>0.0</td>\n",
       "      <td>713</td>\n",
       "      <td>0</td>\n",
       "      <td>...</td>\n",
       "      <td>432</td>\n",
       "      <td>0</td>\n",
       "      <td>0</td>\n",
       "      <td>44</td>\n",
       "      <td>0</td>\n",
       "      <td>0</td>\n",
       "      <td>0</td>\n",
       "      <td>0</td>\n",
       "      <td>8</td>\n",
       "      <td>2009</td>\n",
       "    </tr>\n",
       "    <tr>\n",
       "      <th>818</th>\n",
       "      <td>20</td>\n",
       "      <td>NaN</td>\n",
       "      <td>13265</td>\n",
       "      <td>8</td>\n",
       "      <td>5</td>\n",
       "      <td>2002</td>\n",
       "      <td>2002</td>\n",
       "      <td>148.0</td>\n",
       "      <td>1218</td>\n",
       "      <td>0</td>\n",
       "      <td>...</td>\n",
       "      <td>857</td>\n",
       "      <td>150</td>\n",
       "      <td>59</td>\n",
       "      <td>0</td>\n",
       "      <td>0</td>\n",
       "      <td>0</td>\n",
       "      <td>0</td>\n",
       "      <td>0</td>\n",
       "      <td>7</td>\n",
       "      <td>2008</td>\n",
       "    </tr>\n",
       "    <tr>\n",
       "      <th>303</th>\n",
       "      <td>20</td>\n",
       "      <td>118.0</td>\n",
       "      <td>13704</td>\n",
       "      <td>7</td>\n",
       "      <td>5</td>\n",
       "      <td>2001</td>\n",
       "      <td>2002</td>\n",
       "      <td>150.0</td>\n",
       "      <td>0</td>\n",
       "      <td>0</td>\n",
       "      <td>...</td>\n",
       "      <td>843</td>\n",
       "      <td>468</td>\n",
       "      <td>81</td>\n",
       "      <td>0</td>\n",
       "      <td>0</td>\n",
       "      <td>0</td>\n",
       "      <td>0</td>\n",
       "      <td>0</td>\n",
       "      <td>1</td>\n",
       "      <td>2006</td>\n",
       "    </tr>\n",
       "  </tbody>\n",
       "</table>\n",
       "<p>5 rows × 36 columns</p>\n",
       "</div>"
      ],
      "text/plain": [
       "     MSSubClass  LotFrontage  LotArea  OverallQual  OverallCond  YearBuilt  \\\n",
       "Id                                                                           \n",
       "619          20         90.0    11694            9            5       2007   \n",
       "871          20         60.0     6600            5            5       1962   \n",
       "93           30         80.0    13360            5            7       1921   \n",
       "818          20          NaN    13265            8            5       2002   \n",
       "303          20        118.0    13704            7            5       2001   \n",
       "\n",
       "     YearRemodAdd  MasVnrArea  BsmtFinSF1  BsmtFinSF2  ...  GarageArea  \\\n",
       "Id                                                     ...               \n",
       "619          2007       452.0          48           0  ...         774   \n",
       "871          1962         0.0           0           0  ...         308   \n",
       "93           2006         0.0         713           0  ...         432   \n",
       "818          2002       148.0        1218           0  ...         857   \n",
       "303          2002       150.0           0           0  ...         843   \n",
       "\n",
       "     WoodDeckSF  OpenPorchSF  EnclosedPorch  3SsnPorch  ScreenPorch  PoolArea  \\\n",
       "Id                                                                              \n",
       "619           0          108              0          0          260         0   \n",
       "871           0            0              0          0            0         0   \n",
       "93            0            0             44          0            0         0   \n",
       "818         150           59              0          0            0         0   \n",
       "303         468           81              0          0            0         0   \n",
       "\n",
       "     MiscVal  MoSold  YrSold  \n",
       "Id                            \n",
       "619        0       7    2007  \n",
       "871        0       8    2009  \n",
       "93         0       8    2009  \n",
       "818        0       7    2008  \n",
       "303        0       1    2006  \n",
       "\n",
       "[5 rows x 36 columns]"
      ]
     },
     "execution_count": 3,
     "metadata": {},
     "output_type": "execute_result"
    }
   ],
   "source": [
    "X_train.head()"
   ]
  },
  {
   "cell_type": "markdown",
   "id": "45af0717",
   "metadata": {
    "papermill": {
     "duration": 0.008288,
     "end_time": "2023-03-01T11:18:08.080249",
     "exception": false,
     "start_time": "2023-03-01T11:18:08.071961",
     "status": "completed"
    },
    "tags": []
   },
   "source": [
    "You can already see a few missing values in the first several rows.  In the next step, you'll obtain a more comprehensive understanding of the missing values in the dataset.\n",
    "\n",
    "# Step 1: Preliminary investigation\n",
    "\n",
    "Run the code cell below without changes."
   ]
  },
  {
   "cell_type": "code",
   "execution_count": 4,
   "id": "0cfb51aa",
   "metadata": {
    "execution": {
     "iopub.execute_input": "2023-03-01T11:18:08.099452Z",
     "iopub.status.busy": "2023-03-01T11:18:08.099009Z",
     "iopub.status.idle": "2023-03-01T11:18:08.107931Z",
     "shell.execute_reply": "2023-03-01T11:18:08.106274Z"
    },
    "papermill": {
     "duration": 0.021434,
     "end_time": "2023-03-01T11:18:08.110262",
     "exception": false,
     "start_time": "2023-03-01T11:18:08.088828",
     "status": "completed"
    },
    "tags": []
   },
   "outputs": [
    {
     "name": "stdout",
     "output_type": "stream",
     "text": [
      "(1168, 36)\n",
      "LotFrontage    212\n",
      "MasVnrArea       6\n",
      "GarageYrBlt     58\n",
      "dtype: int64\n"
     ]
    }
   ],
   "source": [
    "# Shape of training data (num_rows, num_columns)\n",
    "print(X_train.shape)\n",
    "\n",
    "# Number of missing values in each column of training data\n",
    "missing_val_count_by_column = (X_train.isnull().sum())\n",
    "print(missing_val_count_by_column[missing_val_count_by_column > 0])"
   ]
  },
  {
   "cell_type": "markdown",
   "id": "6e4a7817",
   "metadata": {
    "papermill": {
     "duration": 0.007882,
     "end_time": "2023-03-01T11:18:08.126681",
     "exception": false,
     "start_time": "2023-03-01T11:18:08.118799",
     "status": "completed"
    },
    "tags": []
   },
   "source": [
    "### Part A\n",
    "\n",
    "Use the above output to answer the questions below."
   ]
  },
  {
   "cell_type": "code",
   "execution_count": 5,
   "id": "4745ff07",
   "metadata": {
    "execution": {
     "iopub.execute_input": "2023-03-01T11:18:08.145162Z",
     "iopub.status.busy": "2023-03-01T11:18:08.144728Z",
     "iopub.status.idle": "2023-03-01T11:18:08.157011Z",
     "shell.execute_reply": "2023-03-01T11:18:08.154913Z"
    },
    "papermill": {
     "duration": 0.024868,
     "end_time": "2023-03-01T11:18:08.159868",
     "exception": false,
     "start_time": "2023-03-01T11:18:08.135000",
     "status": "completed"
    },
    "tags": []
   },
   "outputs": [
    {
     "data": {
      "application/javascript": [
       "parent.postMessage({\"jupyterEvent\": \"custom.exercise_interaction\", \"data\": {\"outcomeType\": 1, \"valueTowardsCompletion\": 1.0, \"interactionType\": 1, \"questionType\": 1, \"questionId\": \"1.1_InvestigateEquality\", \"learnToolsVersion\": \"0.3.4\", \"failureMessage\": \"\", \"exceptionClass\": \"\", \"trace\": \"\"}}, \"*\")"
      ],
      "text/plain": [
       "<IPython.core.display.Javascript object>"
      ]
     },
     "metadata": {},
     "output_type": "display_data"
    },
    {
     "data": {
      "text/markdown": [
       "<span style=\"color:#33cc33\">Correct</span>"
      ],
      "text/plain": [
       "Correct"
      ]
     },
     "metadata": {},
     "output_type": "display_data"
    }
   ],
   "source": [
    "# Fill in the line below: How many rows are in the training data?\n",
    "num_rows = 1168\n",
    "\n",
    "# Fill in the line below: How many columns in the training data\n",
    "# have missing values?\n",
    "num_cols_with_missing = 3\n",
    "\n",
    "# Fill in the line below: How many missing entries are contained in \n",
    "# all of the training data?\n",
    "tot_missing = 276\n",
    "\n",
    "# Check your answers\n",
    "step_1.a.check()"
   ]
  },
  {
   "cell_type": "code",
   "execution_count": 6,
   "id": "8fcab628",
   "metadata": {
    "execution": {
     "iopub.execute_input": "2023-03-01T11:18:08.179817Z",
     "iopub.status.busy": "2023-03-01T11:18:08.179402Z",
     "iopub.status.idle": "2023-03-01T11:18:08.184380Z",
     "shell.execute_reply": "2023-03-01T11:18:08.183444Z"
    },
    "papermill": {
     "duration": 0.017155,
     "end_time": "2023-03-01T11:18:08.186202",
     "exception": false,
     "start_time": "2023-03-01T11:18:08.169047",
     "status": "completed"
    },
    "tags": []
   },
   "outputs": [],
   "source": [
    "# Lines below will give you a hint or solution code\n",
    "#step_1.a.hint()\n",
    "# step_1.a.solution()"
   ]
  },
  {
   "cell_type": "markdown",
   "id": "02be49cd",
   "metadata": {
    "papermill": {
     "duration": 0.008143,
     "end_time": "2023-03-01T11:18:08.203045",
     "exception": false,
     "start_time": "2023-03-01T11:18:08.194902",
     "status": "completed"
    },
    "tags": []
   },
   "source": [
    "### Part B\n",
    "Considering your answers above, what do you think is likely the best approach to dealing with the missing values?"
   ]
  },
  {
   "cell_type": "code",
   "execution_count": 7,
   "id": "bde196ff",
   "metadata": {
    "execution": {
     "iopub.execute_input": "2023-03-01T11:18:08.221865Z",
     "iopub.status.busy": "2023-03-01T11:18:08.221444Z",
     "iopub.status.idle": "2023-03-01T11:18:08.229635Z",
     "shell.execute_reply": "2023-03-01T11:18:08.228640Z"
    },
    "papermill": {
     "duration": 0.020931,
     "end_time": "2023-03-01T11:18:08.232372",
     "exception": false,
     "start_time": "2023-03-01T11:18:08.211441",
     "status": "completed"
    },
    "tags": []
   },
   "outputs": [
    {
     "data": {
      "application/javascript": [
       "parent.postMessage({\"jupyterEvent\": \"custom.exercise_interaction\", \"data\": {\"outcomeType\": 1, \"valueTowardsCompletion\": 1.0, \"interactionType\": 1, \"questionType\": 4, \"questionId\": \"1.2_InvestigateThought\", \"learnToolsVersion\": \"0.3.4\", \"failureMessage\": \"\", \"exceptionClass\": \"\", \"trace\": \"\"}}, \"*\")"
      ],
      "text/plain": [
       "<IPython.core.display.Javascript object>"
      ]
     },
     "metadata": {},
     "output_type": "display_data"
    },
    {
     "data": {
      "text/markdown": [
       "<span style=\"color:#33cc33\">Correct:</span> \n",
       "\n",
       "Since there are relatively few missing entries in the data (the column with the greatest percentage of missing values is missing less than 20% of its entries), we can expect that dropping columns is unlikely to yield good results.  This is because we'd be throwing away a lot of valuable data, and so imputation will likely perform better."
      ],
      "text/plain": [
       "Correct: \n",
       "\n",
       "Since there are relatively few missing entries in the data (the column with the greatest percentage of missing values is missing less than 20% of its entries), we can expect that dropping columns is unlikely to yield good results.  This is because we'd be throwing away a lot of valuable data, and so imputation will likely perform better."
      ]
     },
     "metadata": {},
     "output_type": "display_data"
    }
   ],
   "source": [
    "# Check your answer (Run this code cell to receive credit!)\n",
    "step_1.b.check()"
   ]
  },
  {
   "cell_type": "code",
   "execution_count": 8,
   "id": "50cf1d58",
   "metadata": {
    "execution": {
     "iopub.execute_input": "2023-03-01T11:18:08.254101Z",
     "iopub.status.busy": "2023-03-01T11:18:08.253668Z",
     "iopub.status.idle": "2023-03-01T11:18:08.258425Z",
     "shell.execute_reply": "2023-03-01T11:18:08.257280Z"
    },
    "papermill": {
     "duration": 0.018104,
     "end_time": "2023-03-01T11:18:08.260674",
     "exception": false,
     "start_time": "2023-03-01T11:18:08.242570",
     "status": "completed"
    },
    "tags": []
   },
   "outputs": [],
   "source": [
    "# step_1.b.hint()"
   ]
  },
  {
   "cell_type": "markdown",
   "id": "8f56d1dd",
   "metadata": {
    "papermill": {
     "duration": 0.009122,
     "end_time": "2023-03-01T11:18:08.279831",
     "exception": false,
     "start_time": "2023-03-01T11:18:08.270709",
     "status": "completed"
    },
    "tags": []
   },
   "source": [
    "To compare different approaches to dealing with missing values, you'll use the same `score_dataset()` function from the tutorial.  This function reports the [mean absolute error](https://en.wikipedia.org/wiki/Mean_absolute_error) (MAE) from a random forest model."
   ]
  },
  {
   "cell_type": "code",
   "execution_count": 9,
   "id": "384612cf",
   "metadata": {
    "execution": {
     "iopub.execute_input": "2023-03-01T11:18:08.299661Z",
     "iopub.status.busy": "2023-03-01T11:18:08.299243Z",
     "iopub.status.idle": "2023-03-01T11:18:08.698284Z",
     "shell.execute_reply": "2023-03-01T11:18:08.696479Z"
    },
    "papermill": {
     "duration": 0.412239,
     "end_time": "2023-03-01T11:18:08.701109",
     "exception": false,
     "start_time": "2023-03-01T11:18:08.288870",
     "status": "completed"
    },
    "tags": []
   },
   "outputs": [],
   "source": [
    "from sklearn.ensemble import RandomForestRegressor\n",
    "from sklearn.metrics import mean_absolute_error\n",
    "\n",
    "# Function for comparing different approaches\n",
    "def score_dataset(X_train, X_valid, y_train, y_valid):\n",
    "    model = RandomForestRegressor(n_estimators=100, random_state=0)\n",
    "    model.fit(X_train, y_train)\n",
    "    preds = model.predict(X_valid)\n",
    "    return mean_absolute_error(y_valid, preds)"
   ]
  },
  {
   "cell_type": "markdown",
   "id": "c5956e46",
   "metadata": {
    "papermill": {
     "duration": 0.008685,
     "end_time": "2023-03-01T11:18:08.719048",
     "exception": false,
     "start_time": "2023-03-01T11:18:08.710363",
     "status": "completed"
    },
    "tags": []
   },
   "source": [
    "# Step 2: Drop columns with missing values\n",
    "\n",
    "In this step, you'll preprocess the data in `X_train` and `X_valid` to remove columns with missing values.  Set the preprocessed DataFrames to `reduced_X_train` and `reduced_X_valid`, respectively.  "
   ]
  },
  {
   "cell_type": "code",
   "execution_count": 10,
   "id": "aea72559",
   "metadata": {
    "execution": {
     "iopub.execute_input": "2023-03-01T11:18:08.738576Z",
     "iopub.status.busy": "2023-03-01T11:18:08.738174Z",
     "iopub.status.idle": "2023-03-01T11:18:08.766305Z",
     "shell.execute_reply": "2023-03-01T11:18:08.764130Z"
    },
    "papermill": {
     "duration": 0.041657,
     "end_time": "2023-03-01T11:18:08.769675",
     "exception": false,
     "start_time": "2023-03-01T11:18:08.728018",
     "status": "completed"
    },
    "tags": []
   },
   "outputs": [
    {
     "data": {
      "application/javascript": [
       "parent.postMessage({\"jupyterEvent\": \"custom.exercise_interaction\", \"data\": {\"outcomeType\": 1, \"valueTowardsCompletion\": 1.0, \"interactionType\": 1, \"questionType\": 2, \"questionId\": \"2_DropMissing\", \"learnToolsVersion\": \"0.3.4\", \"failureMessage\": \"\", \"exceptionClass\": \"\", \"trace\": \"\"}}, \"*\")"
      ],
      "text/plain": [
       "<IPython.core.display.Javascript object>"
      ]
     },
     "metadata": {},
     "output_type": "display_data"
    },
    {
     "data": {
      "text/markdown": [
       "<span style=\"color:#33cc33\">Correct</span>"
      ],
      "text/plain": [
       "Correct"
      ]
     },
     "metadata": {},
     "output_type": "display_data"
    }
   ],
   "source": [
    "# Fill in the line below: get names of columns with missing values\n",
    "cols_with_missing = [col for col in X_train.columns \n",
    "                    if X_train[col].isnull().any()] \n",
    "\n",
    "# Fill in the lines below: drop columns in training and validation data\n",
    "reduced_X_train = X_train.drop(cols_with_missing, axis=1)\n",
    "reduced_X_valid = X_valid.drop(cols_with_missing, axis=1)\n",
    "\n",
    "# Check your answers\n",
    "step_2.check()"
   ]
  },
  {
   "cell_type": "code",
   "execution_count": 11,
   "id": "6739d985",
   "metadata": {
    "execution": {
     "iopub.execute_input": "2023-03-01T11:18:08.790444Z",
     "iopub.status.busy": "2023-03-01T11:18:08.790031Z",
     "iopub.status.idle": "2023-03-01T11:18:08.794615Z",
     "shell.execute_reply": "2023-03-01T11:18:08.793682Z"
    },
    "papermill": {
     "duration": 0.018274,
     "end_time": "2023-03-01T11:18:08.797516",
     "exception": false,
     "start_time": "2023-03-01T11:18:08.779242",
     "status": "completed"
    },
    "tags": []
   },
   "outputs": [],
   "source": [
    "# Lines below will give you a hint or solution code\n",
    "# step_2.hint()\n",
    "# step_2.solution()"
   ]
  },
  {
   "cell_type": "markdown",
   "id": "24a6c797",
   "metadata": {
    "papermill": {
     "duration": 0.009873,
     "end_time": "2023-03-01T11:18:08.817252",
     "exception": false,
     "start_time": "2023-03-01T11:18:08.807379",
     "status": "completed"
    },
    "tags": []
   },
   "source": [
    "Run the next code cell without changes to obtain the MAE for this approach."
   ]
  },
  {
   "cell_type": "code",
   "execution_count": 12,
   "id": "d973b4f4",
   "metadata": {
    "execution": {
     "iopub.execute_input": "2023-03-01T11:18:08.838052Z",
     "iopub.status.busy": "2023-03-01T11:18:08.837605Z",
     "iopub.status.idle": "2023-03-01T11:18:09.790788Z",
     "shell.execute_reply": "2023-03-01T11:18:09.789167Z"
    },
    "papermill": {
     "duration": 0.966574,
     "end_time": "2023-03-01T11:18:09.793279",
     "exception": false,
     "start_time": "2023-03-01T11:18:08.826705",
     "status": "completed"
    },
    "tags": []
   },
   "outputs": [
    {
     "name": "stdout",
     "output_type": "stream",
     "text": [
      "MAE (Drop columns with missing values):\n",
      "17837.82570776256\n"
     ]
    }
   ],
   "source": [
    "print(\"MAE (Drop columns with missing values):\")\n",
    "print(score_dataset(reduced_X_train, reduced_X_valid, y_train, y_valid))"
   ]
  },
  {
   "cell_type": "markdown",
   "id": "b773601d",
   "metadata": {
    "papermill": {
     "duration": 0.008625,
     "end_time": "2023-03-01T11:18:09.811457",
     "exception": false,
     "start_time": "2023-03-01T11:18:09.802832",
     "status": "completed"
    },
    "tags": []
   },
   "source": [
    "# Step 3: Imputation\n",
    "\n",
    "### Part A\n",
    "\n",
    "Use the next code cell to impute missing values with the mean value along each column.  Set the preprocessed DataFrames to `imputed_X_train` and `imputed_X_valid`.  Make sure that the column names match those in `X_train` and `X_valid`."
   ]
  },
  {
   "cell_type": "code",
   "execution_count": 13,
   "id": "fc2df159",
   "metadata": {
    "execution": {
     "iopub.execute_input": "2023-03-01T11:18:09.831494Z",
     "iopub.status.busy": "2023-03-01T11:18:09.831124Z",
     "iopub.status.idle": "2023-03-01T11:18:09.869655Z",
     "shell.execute_reply": "2023-03-01T11:18:09.867737Z"
    },
    "papermill": {
     "duration": 0.052157,
     "end_time": "2023-03-01T11:18:09.872722",
     "exception": false,
     "start_time": "2023-03-01T11:18:09.820565",
     "status": "completed"
    },
    "tags": []
   },
   "outputs": [
    {
     "data": {
      "application/javascript": [
       "parent.postMessage({\"jupyterEvent\": \"custom.exercise_interaction\", \"data\": {\"outcomeType\": 1, \"valueTowardsCompletion\": 1.0, \"interactionType\": 1, \"questionType\": 2, \"questionId\": \"3.1_ImputeCode\", \"learnToolsVersion\": \"0.3.4\", \"failureMessage\": \"\", \"exceptionClass\": \"\", \"trace\": \"\"}}, \"*\")"
      ],
      "text/plain": [
       "<IPython.core.display.Javascript object>"
      ]
     },
     "metadata": {},
     "output_type": "display_data"
    },
    {
     "data": {
      "text/markdown": [
       "<span style=\"color:#33cc33\">Correct</span>"
      ],
      "text/plain": [
       "Correct"
      ]
     },
     "metadata": {},
     "output_type": "display_data"
    }
   ],
   "source": [
    "from sklearn.impute import SimpleImputer\n",
    "\n",
    "# Fill in the lines below: imputation\n",
    "my_imputer = SimpleImputer() # Your code here\n",
    "imputed_X_train = pd.DataFrame(my_imputer.fit_transform(X_train))\n",
    "imputed_X_valid = pd.DataFrame(my_imputer.transform(X_valid))\n",
    "\n",
    "# Fill in the lines below: imputation removed column names; put them back\n",
    "imputed_X_train.columns = X_train.columns\n",
    "imputed_X_valid.columns = X_valid.columns\n",
    "\n",
    "# Check your answers\n",
    "step_3.a.check()"
   ]
  },
  {
   "cell_type": "code",
   "execution_count": 14,
   "id": "6e9bcc61",
   "metadata": {
    "execution": {
     "iopub.execute_input": "2023-03-01T11:18:09.894449Z",
     "iopub.status.busy": "2023-03-01T11:18:09.894067Z",
     "iopub.status.idle": "2023-03-01T11:18:09.899799Z",
     "shell.execute_reply": "2023-03-01T11:18:09.897598Z"
    },
    "papermill": {
     "duration": 0.020547,
     "end_time": "2023-03-01T11:18:09.903401",
     "exception": false,
     "start_time": "2023-03-01T11:18:09.882854",
     "status": "completed"
    },
    "tags": []
   },
   "outputs": [],
   "source": [
    "# Lines below will give you a hint or solution code\n",
    "#step_3.a.hint()\n",
    "# step_3.a.solution()"
   ]
  },
  {
   "cell_type": "markdown",
   "id": "93165a35",
   "metadata": {
    "papermill": {
     "duration": 0.009587,
     "end_time": "2023-03-01T11:18:09.922997",
     "exception": false,
     "start_time": "2023-03-01T11:18:09.913410",
     "status": "completed"
    },
    "tags": []
   },
   "source": [
    "Run the next code cell without changes to obtain the MAE for this approach."
   ]
  },
  {
   "cell_type": "code",
   "execution_count": 15,
   "id": "f39b7c56",
   "metadata": {
    "execution": {
     "iopub.execute_input": "2023-03-01T11:18:09.944859Z",
     "iopub.status.busy": "2023-03-01T11:18:09.944446Z",
     "iopub.status.idle": "2023-03-01T11:18:10.999832Z",
     "shell.execute_reply": "2023-03-01T11:18:10.997437Z"
    },
    "papermill": {
     "duration": 1.071047,
     "end_time": "2023-03-01T11:18:11.004098",
     "exception": false,
     "start_time": "2023-03-01T11:18:09.933051",
     "status": "completed"
    },
    "tags": []
   },
   "outputs": [
    {
     "name": "stdout",
     "output_type": "stream",
     "text": [
      "MAE (Imputation):\n",
      "18062.894611872147\n"
     ]
    }
   ],
   "source": [
    "print(\"MAE (Imputation):\")\n",
    "print(score_dataset(imputed_X_train, imputed_X_valid, y_train, y_valid))"
   ]
  },
  {
   "cell_type": "markdown",
   "id": "377d0caf",
   "metadata": {
    "papermill": {
     "duration": 0.009738,
     "end_time": "2023-03-01T11:18:11.024242",
     "exception": false,
     "start_time": "2023-03-01T11:18:11.014504",
     "status": "completed"
    },
    "tags": []
   },
   "source": [
    "### Part B\n",
    "\n",
    "Compare the MAE from each approach.  Does anything surprise you about the results?  Why do you think one approach performed better than the other?"
   ]
  },
  {
   "cell_type": "code",
   "execution_count": 16,
   "id": "fdbd80fd",
   "metadata": {
    "execution": {
     "iopub.execute_input": "2023-03-01T11:18:11.046837Z",
     "iopub.status.busy": "2023-03-01T11:18:11.046069Z",
     "iopub.status.idle": "2023-03-01T11:18:11.055375Z",
     "shell.execute_reply": "2023-03-01T11:18:11.054517Z"
    },
    "papermill": {
     "duration": 0.024025,
     "end_time": "2023-03-01T11:18:11.058344",
     "exception": false,
     "start_time": "2023-03-01T11:18:11.034319",
     "status": "completed"
    },
    "tags": []
   },
   "outputs": [
    {
     "data": {
      "application/javascript": [
       "parent.postMessage({\"jupyterEvent\": \"custom.exercise_interaction\", \"data\": {\"outcomeType\": 1, \"valueTowardsCompletion\": 1.0, \"interactionType\": 1, \"questionType\": 4, \"questionId\": \"3.2_ImputeThought\", \"learnToolsVersion\": \"0.3.4\", \"failureMessage\": \"\", \"exceptionClass\": \"\", \"trace\": \"\"}}, \"*\")"
      ],
      "text/plain": [
       "<IPython.core.display.Javascript object>"
      ]
     },
     "metadata": {},
     "output_type": "display_data"
    },
    {
     "data": {
      "text/markdown": [
       "<span style=\"color:#33cc33\">Correct:</span> \n",
       "\n",
       "Given that thre are so few missing values in the dataset, we'd expect imputation to perform better than dropping columns entirely.  However, we see that dropping columns performs slightly better!  While this can probably partially be attributed to noise in the dataset, another potential explanation is that the imputation method is not a great match to this dataset.  That is, maybe instead of filling in the mean value, it makes more sense to set every missing value to a value of 0, to fill in the most frequently encountered value, or to use some other method.  For instance, consider the `GarageYrBlt` column (which indicates the year that the garage was built).  It's likely that in some cases, a missing value could indicate a house that does not have a garage.  Does it make more sense to fill in the median value along each column in this case?  Or could we get better results by filling in the minimum value along each column?  It's not quite clear what's best in this case, but perhaps we can rule out some options immediately - for instance, setting missing values in this column to 0 is likely to yield horrible results!"
      ],
      "text/plain": [
       "Correct: \n",
       "\n",
       "Given that thre are so few missing values in the dataset, we'd expect imputation to perform better than dropping columns entirely.  However, we see that dropping columns performs slightly better!  While this can probably partially be attributed to noise in the dataset, another potential explanation is that the imputation method is not a great match to this dataset.  That is, maybe instead of filling in the mean value, it makes more sense to set every missing value to a value of 0, to fill in the most frequently encountered value, or to use some other method.  For instance, consider the `GarageYrBlt` column (which indicates the year that the garage was built).  It's likely that in some cases, a missing value could indicate a house that does not have a garage.  Does it make more sense to fill in the median value along each column in this case?  Or could we get better results by filling in the minimum value along each column?  It's not quite clear what's best in this case, but perhaps we can rule out some options immediately - for instance, setting missing values in this column to 0 is likely to yield horrible results!"
      ]
     },
     "metadata": {},
     "output_type": "display_data"
    }
   ],
   "source": [
    "# Check your answer (Run this code cell to receive credit!)\n",
    "step_3.b.check()"
   ]
  },
  {
   "cell_type": "code",
   "execution_count": 17,
   "id": "eed326c7",
   "metadata": {
    "execution": {
     "iopub.execute_input": "2023-03-01T11:18:11.081456Z",
     "iopub.status.busy": "2023-03-01T11:18:11.080797Z",
     "iopub.status.idle": "2023-03-01T11:18:11.084903Z",
     "shell.execute_reply": "2023-03-01T11:18:11.083966Z"
    },
    "papermill": {
     "duration": 0.018742,
     "end_time": "2023-03-01T11:18:11.087451",
     "exception": false,
     "start_time": "2023-03-01T11:18:11.068709",
     "status": "completed"
    },
    "tags": []
   },
   "outputs": [],
   "source": [
    "#step_3.b.hint()"
   ]
  },
  {
   "cell_type": "markdown",
   "id": "524c9a87",
   "metadata": {
    "papermill": {
     "duration": 0.009504,
     "end_time": "2023-03-01T11:18:11.106954",
     "exception": false,
     "start_time": "2023-03-01T11:18:11.097450",
     "status": "completed"
    },
    "tags": []
   },
   "source": [
    "# Step 4: Generate test predictions\n",
    "\n",
    "In this final step, you'll use any approach of your choosing to deal with missing values.  Once you've preprocessed the training and validation features, you'll train and evaluate a random forest model.  Then, you'll preprocess the test data before generating predictions that can be submitted to the competition!\n",
    "\n",
    "### Part A\n",
    "\n",
    "Use the next code cell to preprocess the training and validation data.  Set the preprocessed DataFrames to `final_X_train` and `final_X_valid`.  **You can use any approach of your choosing here!**  in order for this step to be marked as correct, you need only ensure:\n",
    "- the preprocessed DataFrames have the same number of columns,\n",
    "- the preprocessed DataFrames have no missing values, \n",
    "- `final_X_train` and `y_train` have the same number of rows, and\n",
    "- `final_X_valid` and `y_valid` have the same number of rows."
   ]
  },
  {
   "cell_type": "code",
   "execution_count": 18,
   "id": "9349758d",
   "metadata": {
    "execution": {
     "iopub.execute_input": "2023-03-01T11:18:11.129340Z",
     "iopub.status.busy": "2023-03-01T11:18:11.128413Z",
     "iopub.status.idle": "2023-03-01T11:18:11.156809Z",
     "shell.execute_reply": "2023-03-01T11:18:11.156001Z"
    },
    "papermill": {
     "duration": 0.041639,
     "end_time": "2023-03-01T11:18:11.158578",
     "exception": false,
     "start_time": "2023-03-01T11:18:11.116939",
     "status": "completed"
    },
    "tags": []
   },
   "outputs": [
    {
     "data": {
      "application/javascript": [
       "parent.postMessage({\"jupyterEvent\": \"custom.exercise_interaction\", \"data\": {\"outcomeType\": 1, \"valueTowardsCompletion\": 1.0, \"interactionType\": 1, \"questionType\": 2, \"questionId\": \"4.1_PredsCodeA\", \"learnToolsVersion\": \"0.3.4\", \"failureMessage\": \"\", \"exceptionClass\": \"\", \"trace\": \"\"}}, \"*\")"
      ],
      "text/plain": [
       "<IPython.core.display.Javascript object>"
      ]
     },
     "metadata": {},
     "output_type": "display_data"
    },
    {
     "data": {
      "text/markdown": [
       "<span style=\"color:#33cc33\">Correct</span>"
      ],
      "text/plain": [
       "Correct"
      ]
     },
     "metadata": {},
     "output_type": "display_data"
    }
   ],
   "source": [
    "# Preprocessed training and validation features\n",
    "final_imputer = SimpleImputer(strategy='median')\n",
    "final_X_train = pd.DataFrame(final_imputer.fit_transform(X_train))\n",
    "final_X_valid = pd.DataFrame(final_imputer.transform(X_valid))\n",
    "\n",
    "# Imputation removed column names; put them back\n",
    "final_X_train.columns = X_train.columns\n",
    "final_X_valid.columns = X_valid.columns\n",
    "\n",
    "# Check your answers\n",
    "step_4.a.check()"
   ]
  },
  {
   "cell_type": "code",
   "execution_count": 19,
   "id": "ba8279b3",
   "metadata": {
    "execution": {
     "iopub.execute_input": "2023-03-01T11:18:11.182723Z",
     "iopub.status.busy": "2023-03-01T11:18:11.181366Z",
     "iopub.status.idle": "2023-03-01T11:18:11.186581Z",
     "shell.execute_reply": "2023-03-01T11:18:11.185255Z"
    },
    "papermill": {
     "duration": 0.020123,
     "end_time": "2023-03-01T11:18:11.189629",
     "exception": false,
     "start_time": "2023-03-01T11:18:11.169506",
     "status": "completed"
    },
    "tags": []
   },
   "outputs": [],
   "source": [
    "# Lines below will give you a hint or solution code\n",
    "# step_4.a.hint()\n",
    "# step_4.a.solution()"
   ]
  },
  {
   "cell_type": "markdown",
   "id": "52d35d9b",
   "metadata": {
    "papermill": {
     "duration": 0.010228,
     "end_time": "2023-03-01T11:18:11.210696",
     "exception": false,
     "start_time": "2023-03-01T11:18:11.200468",
     "status": "completed"
    },
    "tags": []
   },
   "source": [
    "Run the next code cell to train and evaluate a random forest model.  (*Note that we don't use the `score_dataset()` function above, because we will soon use the trained model to generate test predictions!*)"
   ]
  },
  {
   "cell_type": "code",
   "execution_count": 20,
   "id": "22f709cf",
   "metadata": {
    "execution": {
     "iopub.execute_input": "2023-03-01T11:18:11.233727Z",
     "iopub.status.busy": "2023-03-01T11:18:11.233254Z",
     "iopub.status.idle": "2023-03-01T11:18:12.268585Z",
     "shell.execute_reply": "2023-03-01T11:18:12.266977Z"
    },
    "papermill": {
     "duration": 1.050758,
     "end_time": "2023-03-01T11:18:12.272037",
     "exception": false,
     "start_time": "2023-03-01T11:18:11.221279",
     "status": "completed"
    },
    "tags": []
   },
   "outputs": [
    {
     "name": "stdout",
     "output_type": "stream",
     "text": [
      "MAE (Your approach):\n",
      "17791.59899543379\n"
     ]
    }
   ],
   "source": [
    "# Define and fit model\n",
    "model = RandomForestRegressor(n_estimators=100, random_state=0)\n",
    "model.fit(final_X_train, y_train)\n",
    "\n",
    "# Get validation predictions and MAE\n",
    "preds_valid = model.predict(final_X_valid)\n",
    "print(\"MAE (Your approach):\")\n",
    "print(mean_absolute_error(y_valid, preds_valid))"
   ]
  },
  {
   "cell_type": "markdown",
   "id": "11904b1e",
   "metadata": {
    "papermill": {
     "duration": 0.0102,
     "end_time": "2023-03-01T11:18:12.292896",
     "exception": false,
     "start_time": "2023-03-01T11:18:12.282696",
     "status": "completed"
    },
    "tags": []
   },
   "source": [
    "### Part B\n",
    "\n",
    "Use the next code cell to preprocess your test data.  Make sure that you use a method that agrees with how you preprocessed the training and validation data, and set the preprocessed test features to `final_X_test`.\n",
    "\n",
    "Then, use the preprocessed test features and the trained model to generate test predictions in `preds_test`.\n",
    "\n",
    "In order for this step to be marked correct, you need only ensure:\n",
    "- the preprocessed test DataFrame has no missing values, and\n",
    "- `final_X_test` has the same number of rows as `X_test`."
   ]
  },
  {
   "cell_type": "code",
   "execution_count": 21,
   "id": "a4849c58",
   "metadata": {
    "execution": {
     "iopub.execute_input": "2023-03-01T11:18:12.316171Z",
     "iopub.status.busy": "2023-03-01T11:18:12.315753Z",
     "iopub.status.idle": "2023-03-01T11:18:12.366806Z",
     "shell.execute_reply": "2023-03-01T11:18:12.364341Z"
    },
    "papermill": {
     "duration": 0.06637,
     "end_time": "2023-03-01T11:18:12.370018",
     "exception": false,
     "start_time": "2023-03-01T11:18:12.303648",
     "status": "completed"
    },
    "tags": []
   },
   "outputs": [
    {
     "data": {
      "application/javascript": [
       "parent.postMessage({\"jupyterEvent\": \"custom.exercise_interaction\", \"data\": {\"outcomeType\": 1, \"valueTowardsCompletion\": 1.0, \"interactionType\": 1, \"questionType\": 2, \"questionId\": \"4.2_PredsCodeB\", \"learnToolsVersion\": \"0.3.4\", \"failureMessage\": \"\", \"exceptionClass\": \"\", \"trace\": \"\"}}, \"*\")"
      ],
      "text/plain": [
       "<IPython.core.display.Javascript object>"
      ]
     },
     "metadata": {},
     "output_type": "display_data"
    },
    {
     "data": {
      "text/markdown": [
       "<span style=\"color:#33cc33\">Correct</span>"
      ],
      "text/plain": [
       "Correct"
      ]
     },
     "metadata": {},
     "output_type": "display_data"
    }
   ],
   "source": [
    "# Fill in the line below: preprocess test data\n",
    "\n",
    "final_X_test = pd.DataFrame(my_imputer.transform(X_test))\n",
    "# Imputation removed column names; put them back\n",
    "final_X_test.columns = X_test.columns\n",
    "\n",
    "# Fill in the line below: get test predictions\n",
    "preds_test = model.predict(final_X_test)\n",
    "\n",
    "# Check your answers\n",
    "step_4.b.check()"
   ]
  },
  {
   "cell_type": "code",
   "execution_count": 22,
   "id": "862c3ae1",
   "metadata": {
    "execution": {
     "iopub.execute_input": "2023-03-01T11:18:12.392808Z",
     "iopub.status.busy": "2023-03-01T11:18:12.392404Z",
     "iopub.status.idle": "2023-03-01T11:18:12.397480Z",
     "shell.execute_reply": "2023-03-01T11:18:12.395995Z"
    },
    "papermill": {
     "duration": 0.020291,
     "end_time": "2023-03-01T11:18:12.400906",
     "exception": false,
     "start_time": "2023-03-01T11:18:12.380615",
     "status": "completed"
    },
    "tags": []
   },
   "outputs": [],
   "source": [
    "# Lines below will give you a hint or solution code\n",
    "# step_4.b.hint()\n",
    "# step_4.b.solution()"
   ]
  },
  {
   "cell_type": "markdown",
   "id": "20bdbe77",
   "metadata": {
    "papermill": {
     "duration": 0.010906,
     "end_time": "2023-03-01T11:18:12.422629",
     "exception": false,
     "start_time": "2023-03-01T11:18:12.411723",
     "status": "completed"
    },
    "tags": []
   },
   "source": [
    "Run the next code cell without changes to save your results to a CSV file that can be submitted directly to the competition."
   ]
  },
  {
   "cell_type": "code",
   "execution_count": 23,
   "id": "0b83aad3",
   "metadata": {
    "execution": {
     "iopub.execute_input": "2023-03-01T11:18:12.445427Z",
     "iopub.status.busy": "2023-03-01T11:18:12.445008Z",
     "iopub.status.idle": "2023-03-01T11:18:12.458183Z",
     "shell.execute_reply": "2023-03-01T11:18:12.457152Z"
    },
    "papermill": {
     "duration": 0.027062,
     "end_time": "2023-03-01T11:18:12.460420",
     "exception": false,
     "start_time": "2023-03-01T11:18:12.433358",
     "status": "completed"
    },
    "tags": []
   },
   "outputs": [],
   "source": [
    "# Save test predictions to file\n",
    "output = pd.DataFrame({'Id': X_test.index,\n",
    "                       'SalePrice': preds_test})\n",
    "output.to_csv('submission.csv', index=False)"
   ]
  },
  {
   "cell_type": "markdown",
   "id": "ac84c17b",
   "metadata": {
    "papermill": {
     "duration": 0.010248,
     "end_time": "2023-03-01T11:18:12.481821",
     "exception": false,
     "start_time": "2023-03-01T11:18:12.471573",
     "status": "completed"
    },
    "tags": []
   },
   "source": [
    "# Submit your results\n",
    "\n",
    "Once you have successfully completed Step 4, you're ready to submit your results to the leaderboard!  (_You also learned how to do this in the previous exercise.  If you need a reminder of how to do this, please use the instructions below._)  \n",
    "\n",
    "First, you'll need to join the competition if you haven't already.  So open a new window by clicking on [this link](https://www.kaggle.com/c/home-data-for-ml-course).  Then click on the **Join Competition** button.\n",
    "\n",
    "![join competition image](https://i.imgur.com/wLmFtH3.png)\n",
    "\n",
    "Next, follow the instructions below:\n",
    "1. Begin by clicking on the **Save Version** button in the top right corner of the window.  This will generate a pop-up window.  \n",
    "2. Ensure that the **Save and Run All** option is selected, and then click on the **Save** button.\n",
    "3. This generates a window in the bottom left corner of the notebook.  After it has finished running, click on the number to the right of the **Save Version** button.  This pulls up a list of versions on the right of the screen.  Click on the ellipsis **(...)** to the right of the most recent version, and select **Open in Viewer**.  This brings you into view mode of the same page. You will need to scroll down to get back to these instructions.\n",
    "4. Click on the **Output** tab on the right of the screen.  Then, click on the file you would like to submit, and click on the **Submit** button to submit your results to the leaderboard.\n",
    "\n",
    "You have now successfully submitted to the competition!\n",
    "\n",
    "If you want to keep working to improve your performance, select the **Edit** button in the top right of the screen. Then you can change your code and repeat the process. There's a lot of room to improve, and you will climb up the leaderboard as you work.\n",
    "\n",
    "\n",
    "# Keep going\n",
    "\n",
    "Move on to learn what **[categorical variables](https://www.kaggle.com/alexisbcook/categorical-variables)** are, along with how to incorporate them into your machine learning models.  Categorical variables are very common in real-world data, but you'll get an error if you try to plug them into your models without processing them first!"
   ]
  },
  {
   "cell_type": "markdown",
   "id": "78fb1a57",
   "metadata": {
    "papermill": {
     "duration": 0.01003,
     "end_time": "2023-03-01T11:18:12.502401",
     "exception": false,
     "start_time": "2023-03-01T11:18:12.492371",
     "status": "completed"
    },
    "tags": []
   },
   "source": [
    "---\n",
    "\n",
    "\n",
    "\n",
    "\n",
    "*Have questions or comments? Visit the [course discussion forum](https://www.kaggle.com/learn/intermediate-machine-learning/discussion) to chat with other learners.*"
   ]
  }
 ],
 "metadata": {
  "kernelspec": {
   "display_name": "Python 3",
   "language": "python",
   "name": "python3"
  },
  "language_info": {
   "codemirror_mode": {
    "name": "ipython",
    "version": 3
   },
   "file_extension": ".py",
   "mimetype": "text/x-python",
   "name": "python",
   "nbconvert_exporter": "python",
   "pygments_lexer": "ipython3",
   "version": "3.7.12"
  },
  "papermill": {
   "default_parameters": {},
   "duration": 16.538736,
   "end_time": "2023-03-01T11:18:13.336211",
   "environment_variables": {},
   "exception": null,
   "input_path": "__notebook__.ipynb",
   "output_path": "__notebook__.ipynb",
   "parameters": {},
   "start_time": "2023-03-01T11:17:56.797475",
   "version": "2.4.0"
  }
 },
 "nbformat": 4,
 "nbformat_minor": 5
}
